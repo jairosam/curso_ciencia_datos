{
 "cells": [
  {
   "cell_type": "markdown",
   "metadata": {},
   "source": [
    "## El fenomeno aleatorio\n",
    "Un fenomeno aleatorio son situaciones que dependen del azar. Ejemplos:\n",
    "<ul>\n",
    "    <li>El lanzamiento de una moneda.</li>\n",
    "    <li>que llueva o no en una ciudad en una determinada tarde.</li>\n",
    "</ul>\n",
    "\n",
    "## Enfoques de la probabilidad\n",
    "La probabilidad funciona como una medida del azar y nos ayuda a tomar decisiones bajo estas condiciones. Para calcular estas medidas existen 3 enfoques principales:\n",
    "<ul>\n",
    "    <li>Enfoque subjetivo: Asignamos la medida de probabilidad basados en nuestra intuición o experiencia.</li>\n",
    "    <li>Enfoque frecuencial: Para poder asignar probabilidad a algún resultado en particular de un fenomeno aleatorio tomamos datos historicos del fenomeno aleatorio.</li>\n",
    "    <li>Enfoque clásico: calculamos el cociente del total de formas en las que puede darse un resultado en especifico del fenomeno aleatorio sobre el total de formas en el que puede ocurrir un fenomeno.</li>\n",
    "</ul>\n",
    "\n",
    "## Espacio muestral y evento\n",
    "Consiste en establecer un conjunto con todos los posibles resulados de un fenomeno aleatorio. Por ejemplo el espacio muestral de lanzar un dado: $S=\\{ 1,2,3,4,5,6 \\}$, Los subconjuntos del espacio muestral se les denomina eventos.\n",
    "\n",
    "## Eventos compuestos\n",
    "Eventos generados a partir de operar con otros eventos previamente definidos. Por ejemplo si $A = \\{ 2,4,6 \\}$ y $B = \\{ 1,2,3,4 \\} \\rightarrow (A o B) = \\{ 1,2,3,4,6 \\}$ (unión de eventos) o puede ser $(A \\ y \\ B) =\\{ 2,4 \\}$ (conjunción de eventos) o también puede ser $(A') = \\{ 1,3,5 \\}$ A complemento\n",
    "\n",
    "## Probabilidades con tablas de doble entrada\n",
    "<table>\n",
    "    <tr>\n",
    "        <th>Amigas</th>\n",
    "        <th>Moreno</th>\n",
    "        <th>Rubio</th>\n",
    "        <th>Total</th>\n",
    "    </tr>\n",
    "    <tr>\n",
    "        <th>Azules</th>\n",
    "        <td>0.22</td>\n",
    "        <td>0.17</td>\n",
    "        <td>0.39</td>\n",
    "    </tr>\n",
    "    <tr>\n",
    "        <th>Oscuros</th>\n",
    "        <td>0.28</td>\n",
    "        <td>0.33</td>\n",
    "        <td>0.61</td>\n",
    "    </tr>\n",
    "    <tr>\n",
    "        <th>Total</th>\n",
    "        <td>0.50</td>\n",
    "        <td>0.50</td>\n",
    "        <td>1</td>\n",
    "    </tr>\n",
    "</table>\n",
    "Las probabilidades de los margenes se llaman probabilidades marginales y las del centro se llaman probabilidades conjuntas."
   ]
  },
  {
   "cell_type": "markdown",
   "metadata": {},
   "source": [
    "## Probabilidad de la unión de dos eventos\n",
    "Podemos utilizar la tabla de probabilidad conjunta para calcular la probabilidad de union de dos eventos sumando las probabilidades de los dos eventos y restando la intersección entre ellos. En una formula si tenemos dos eventos su probabilidad será: \n",
    "$$P(A o B) = P(A) + P(B) - P(A y B)$$\n",
    "<br>\n",
    "En caso de tener eventos mutuamente excluyentes, es decir, que no puedan tener más de una caracteristica al mismo tiempo (ejemplo del lanzamiento de un dado esperando un resultado en concreto). en estos casos la probabilidad conjunta es 0.\n",
    "\n",
    "## Axiomas de Kolmogorov\n",
    "<ul>\n",
    "    <li>Un valor de probabilidad siempre estar entre 0 y 1.</li>\n",
    "    <li>La probabilidad de todo el espacio muestral siempre es igual a 1.</li>\n",
    "    <li>La probabilidad de la unión de una serie de eventos del mismo espacio muestral es igual a la suma de las probabilidades marginales de cada uno de los eventos siempre que los eventos sean mtuamente excluyentes.</li>\n",
    "</ul>\n",
    "\n",
    "## Probabilidad condicional\n",
    "Probabilidad de un evento dado que ya ocurrio otro. Cuando la ocurrencia de un evento modifica la probabilidad de ocurrencia de otro se dice que son eventos dependientes. (Teorema de Bayes) Formula: \n",
    "$$P(A|B) = \\dfrac{P(A y B)}{P(B)}$$ <br>\n",
    "$$P(A|B) = \\dfrac{P(B|A)P(A)}{P(B)}$$\n",
    "\n",
    "## Independencia\n",
    "Existen eventos donde la probabilidad de un evento no modifica la probabilidad de otro. Estos eventos son independientes.\n",
    "$$P(A|B)=P(A)$$\n",
    "$$P(A y B)=P(A|B)P(B)$$\n",
    "$$P(A y B)=P(A)P(B)$$\n",
    "\n",
    "### Verificación de independencia\n",
    "Si se cumple la igualdad $P(A y B)=P(A)P(B)$ los eventos son independientes"
   ]
  },
  {
   "cell_type": "markdown",
   "metadata": {},
   "source": [
    "# Examen"
   ]
  },
  {
   "cell_type": "code",
   "execution_count": 2,
   "metadata": {},
   "outputs": [
    {
     "data": {
      "text/html": [
       "<div>\n",
       "<style scoped>\n",
       "    .dataframe tbody tr th:only-of-type {\n",
       "        vertical-align: middle;\n",
       "    }\n",
       "\n",
       "    .dataframe tbody tr th {\n",
       "        vertical-align: top;\n",
       "    }\n",
       "\n",
       "    .dataframe thead th {\n",
       "        text-align: right;\n",
       "    }\n",
       "</style>\n",
       "<table border=\"1\" class=\"dataframe\">\n",
       "  <thead>\n",
       "    <tr style=\"text-align: right;\">\n",
       "      <th></th>\n",
       "      <th>Estatura</th>\n",
       "      <th>Peso</th>\n",
       "      <th>Sexo</th>\n",
       "      <th>Mascota</th>\n",
       "    </tr>\n",
       "  </thead>\n",
       "  <tbody>\n",
       "    <tr>\n",
       "      <th>0</th>\n",
       "      <td>163.240</td>\n",
       "      <td>65.6284</td>\n",
       "      <td>Mujer</td>\n",
       "      <td>Perro</td>\n",
       "    </tr>\n",
       "    <tr>\n",
       "      <th>1</th>\n",
       "      <td>164.310</td>\n",
       "      <td>67.0366</td>\n",
       "      <td>Mujer</td>\n",
       "      <td>Gato</td>\n",
       "    </tr>\n",
       "    <tr>\n",
       "      <th>2</th>\n",
       "      <td>182.664</td>\n",
       "      <td>85.3657</td>\n",
       "      <td>Mujer</td>\n",
       "      <td>Gato</td>\n",
       "    </tr>\n",
       "    <tr>\n",
       "      <th>3</th>\n",
       "      <td>172.885</td>\n",
       "      <td>79.8176</td>\n",
       "      <td>Mujer</td>\n",
       "      <td>Perro</td>\n",
       "    </tr>\n",
       "    <tr>\n",
       "      <th>4</th>\n",
       "      <td>171.163</td>\n",
       "      <td>73.4120</td>\n",
       "      <td>Mujer</td>\n",
       "      <td>Gato</td>\n",
       "    </tr>\n",
       "  </tbody>\n",
       "</table>\n",
       "</div>"
      ],
      "text/plain": [
       "   Estatura     Peso   Sexo Mascota\n",
       "0   163.240  65.6284  Mujer   Perro\n",
       "1   164.310  67.0366  Mujer    Gato\n",
       "2   182.664  85.3657  Mujer    Gato\n",
       "3   172.885  79.8176  Mujer   Perro\n",
       "4   171.163  73.4120  Mujer    Gato"
      ]
     },
     "execution_count": 2,
     "metadata": {},
     "output_type": "execute_result"
    }
   ],
   "source": [
    "import pandas as pd\n",
    "datos = pd.read_csv(\"Alumnos de facultad.csv\")\n",
    "datos.head()"
   ]
  },
  {
   "cell_type": "code",
   "execution_count": 3,
   "metadata": {},
   "outputs": [
    {
     "data": {
      "text/plain": [
       "170.59300000000002"
      ]
     },
     "execution_count": 3,
     "metadata": {},
     "output_type": "execute_result"
    }
   ],
   "source": [
    "datos.Estatura.median()"
   ]
  },
  {
   "cell_type": "code",
   "execution_count": 7,
   "metadata": {},
   "outputs": [
    {
     "data": {
      "text/plain": [
       "0.25    162.97950\n",
       "0.75    178.63525\n",
       "Name: Estatura, dtype: float64"
      ]
     },
     "execution_count": 7,
     "metadata": {},
     "output_type": "execute_result"
    }
   ],
   "source": [
    "datos.Estatura.quantile([0.25,0.75])"
   ]
  },
  {
   "cell_type": "code",
   "execution_count": 8,
   "metadata": {},
   "outputs": [
    {
     "data": {
      "text/plain": [
       "170.82718"
      ]
     },
     "execution_count": 8,
     "metadata": {},
     "output_type": "execute_result"
    }
   ],
   "source": [
    "datos.Estatura.mean()"
   ]
  },
  {
   "cell_type": "code",
   "execution_count": 19,
   "metadata": {},
   "outputs": [
    {
     "data": {
      "text/plain": [
       "53.90199999999999"
      ]
     },
     "execution_count": 19,
     "metadata": {},
     "output_type": "execute_result"
    }
   ],
   "source": [
    "rango = max(datos.Estatura) - min(datos.Estatura)\n",
    "import math\n",
    "n = math.sqrt(len(datos.Estatura))\n",
    "rango"
   ]
  },
  {
   "cell_type": "code",
   "execution_count": 13,
   "metadata": {},
   "outputs": [
    {
     "data": {
      "text/plain": [
       "172.49322222222224"
      ]
     },
     "execution_count": 13,
     "metadata": {},
     "output_type": "execute_result"
    }
   ],
   "source": [
    "datos.Estatura[datos.Sexo == \"Hombre\"].mean()"
   ]
  },
  {
   "cell_type": "code",
   "execution_count": 14,
   "metadata": {},
   "outputs": [
    {
     "data": {
      "text/plain": [
       "47"
      ]
     },
     "execution_count": 14,
     "metadata": {},
     "output_type": "execute_result"
    }
   ],
   "source": [
    "len(datos.Mascota[datos.Mascota == \"Gato\"])"
   ]
  },
  {
   "cell_type": "code",
   "execution_count": 15,
   "metadata": {},
   "outputs": [
    {
     "data": {
      "text/plain": [
       "24"
      ]
     },
     "execution_count": 15,
     "metadata": {},
     "output_type": "execute_result"
    }
   ],
   "source": [
    "len(datos.Mascota[(datos.Mascota == \"Gato\") & (datos.Sexo == \"Mujer\")])"
   ]
  },
  {
   "cell_type": "code",
   "execution_count": 16,
   "metadata": {},
   "outputs": [
    {
     "data": {
      "text/plain": [
       "70.542477"
      ]
     },
     "execution_count": 16,
     "metadata": {},
     "output_type": "execute_result"
    }
   ],
   "source": [
    "datos.Peso.mean()"
   ]
  },
  {
   "cell_type": "code",
   "execution_count": null,
   "metadata": {},
   "outputs": [],
   "source": []
  }
 ],
 "metadata": {
  "kernelspec": {
   "display_name": "Python 3",
   "language": "python",
   "name": "python3"
  },
  "language_info": {
   "codemirror_mode": {
    "name": "ipython",
    "version": 3
   },
   "file_extension": ".py",
   "mimetype": "text/x-python",
   "name": "python",
   "nbconvert_exporter": "python",
   "pygments_lexer": "ipython3",
   "version": "3.7.6"
  }
 },
 "nbformat": 4,
 "nbformat_minor": 4
}
