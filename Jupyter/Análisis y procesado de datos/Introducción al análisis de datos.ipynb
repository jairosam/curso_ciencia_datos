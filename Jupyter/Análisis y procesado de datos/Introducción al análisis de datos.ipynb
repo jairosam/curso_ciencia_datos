{
 "cells": [
  {
   "cell_type": "markdown",
   "metadata": {},
   "source": [
    "# Fase de análisis de datos\n",
    "Luego de haber definido los objetivos del proyecto y haber obtenido los datos, la fase que sigue es el análisis exploratorio de los datos.\n",
    "\n",
    "### Objetivo\n",
    "Obtener un entendimiento de los datos, como se comportan, que variables se relacionan con otras, etc. en resumen se buscan responder una serie de preguntas\n",
    "<ul>\n",
    "    <li>¿Qué fuentes de datos tenemos?</li>\n",
    "    <li>¿Qué datasets tenemos?</li>\n",
    "    <li>¿Qué variables hay en cada dataset?</li>\n",
    "    <li>¿Cómo se relacionan las variables?</li>\n",
    "    <li>¿Hay errores en los datos? (Hacerle control de calidad a los datos)</li> \n",
    "    <li>¿Necesitamos nuevos datasets/más cantidad de datos?</li>\n",
    "</ul>"
   ]
  },
  {
   "cell_type": "code",
   "execution_count": null,
   "metadata": {},
   "outputs": [],
   "source": []
  }
 ],
 "metadata": {
  "kernelspec": {
   "display_name": "Python 3",
   "language": "python",
   "name": "python3"
  },
  "language_info": {
   "codemirror_mode": {
    "name": "ipython",
    "version": 3
   },
   "file_extension": ".py",
   "mimetype": "text/x-python",
   "name": "python",
   "nbconvert_exporter": "python",
   "pygments_lexer": "ipython3",
   "version": "3.7.6"
  }
 },
 "nbformat": 4,
 "nbformat_minor": 4
}
