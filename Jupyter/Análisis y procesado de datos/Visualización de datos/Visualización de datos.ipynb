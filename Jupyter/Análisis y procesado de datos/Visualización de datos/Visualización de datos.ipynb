{
 "cells": [
  {
   "cell_type": "markdown",
   "metadata": {},
   "source": [
    "# Visualización de datos\n",
    "Son tecnicas que permiten representar información mediante imagenes. Tienen 3 funciones principales:\n",
    "<ul>\n",
    "    <li>Presentar una idea. transmitir a un agente externo una idea sobre un volumen de datos</li>\n",
    "    <li>Facilidad para tener entendimiento de los datos.</li>\n",
    "    <li>Monitorización y toma de decisiones. generación de un Dashboard</li>\n",
    "</ul>"
   ]
  },
  {
   "cell_type": "code",
   "execution_count": null,
   "metadata": {},
   "outputs": [],
   "source": []
  }
 ],
 "metadata": {
  "kernelspec": {
   "display_name": "Python 3",
   "language": "python",
   "name": "python3"
  },
  "language_info": {
   "codemirror_mode": {
    "name": "ipython",
    "version": 3
   },
   "file_extension": ".py",
   "mimetype": "text/x-python",
   "name": "python",
   "nbconvert_exporter": "python",
   "pygments_lexer": "ipython3",
   "version": "3.7.6"
  }
 },
 "nbformat": 4,
 "nbformat_minor": 4
}
