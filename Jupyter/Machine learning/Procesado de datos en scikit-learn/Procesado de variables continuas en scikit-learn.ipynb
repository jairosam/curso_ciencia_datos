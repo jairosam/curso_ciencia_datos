{
 "cells": [
  {
   "cell_type": "code",
   "execution_count": 1,
   "metadata": {},
   "outputs": [
    {
     "name": "stdout",
     "output_type": "stream",
     "text": [
      "2020-09-13T19:57:57-05:00\n",
      "\n",
      "CPython 3.7.6\n",
      "IPython 7.13.0\n",
      "\n",
      "compiler   : GCC 7.3.0\n",
      "system     : Linux\n",
      "release    : 5.4.0-47-generic\n",
      "machine    : x86_64\n",
      "processor  : x86_64\n",
      "CPU cores  : 4\n",
      "interpreter: 64bit\n"
     ]
    }
   ],
   "source": [
    "%load_ext watermark\n",
    "%watermark"
   ]
  },
  {
   "cell_type": "code",
   "execution_count": 2,
   "metadata": {},
   "outputs": [],
   "source": [
    "%matplotlib inline\n",
    "import numpy as np\n",
    "import pandas as pd\n",
    "import matplotlib.pyplot as plt\n",
    "import seaborn as sns\n",
    "plt.rcParams['figure.figsize'] = (10,10)"
   ]
  },
  {
   "cell_type": "code",
   "execution_count": 3,
   "metadata": {},
   "outputs": [
    {
     "data": {
      "text/html": [
       "<div>\n",
       "<style scoped>\n",
       "    .dataframe tbody tr th:only-of-type {\n",
       "        vertical-align: middle;\n",
       "    }\n",
       "\n",
       "    .dataframe tbody tr th {\n",
       "        vertical-align: top;\n",
       "    }\n",
       "\n",
       "    .dataframe thead th {\n",
       "        text-align: right;\n",
       "    }\n",
       "</style>\n",
       "<table border=\"1\" class=\"dataframe\">\n",
       "  <thead>\n",
       "    <tr style=\"text-align: right;\">\n",
       "      <th></th>\n",
       "      <th>col_inexistente1</th>\n",
       "      <th>col2</th>\n",
       "      <th>col3</th>\n",
       "      <th>col_outliers</th>\n",
       "      <th>col_outliers2</th>\n",
       "      <th>col_categorica</th>\n",
       "      <th>col_ordinal</th>\n",
       "      <th>col_texto</th>\n",
       "    </tr>\n",
       "  </thead>\n",
       "  <tbody>\n",
       "    <tr>\n",
       "      <th>0</th>\n",
       "      <td>59.0</td>\n",
       "      <td>52.0</td>\n",
       "      <td>2.232832</td>\n",
       "      <td>-50</td>\n",
       "      <td>0.771666</td>\n",
       "      <td>ratón</td>\n",
       "      <td>muy bien</td>\n",
       "      <td>Tenía en su casa una ama que pasaba de los cua...</td>\n",
       "    </tr>\n",
       "    <tr>\n",
       "      <th>1</th>\n",
       "      <td>31.0</td>\n",
       "      <td>74.0</td>\n",
       "      <td>0.906147</td>\n",
       "      <td>-5</td>\n",
       "      <td>1.068558</td>\n",
       "      <td>elefante</td>\n",
       "      <td>regular</td>\n",
       "      <td>El resto della concluían sayo de velarte, calz...</td>\n",
       "    </tr>\n",
       "    <tr>\n",
       "      <th>2</th>\n",
       "      <td>81.0</td>\n",
       "      <td>28.0</td>\n",
       "      <td>0.626750</td>\n",
       "      <td>-32</td>\n",
       "      <td>0.846396</td>\n",
       "      <td>ratón</td>\n",
       "      <td>muy mal</td>\n",
       "      <td>El resto della concluían sayo de velarte, calz...</td>\n",
       "    </tr>\n",
       "    <tr>\n",
       "      <th>3</th>\n",
       "      <td>34.0</td>\n",
       "      <td>16.0</td>\n",
       "      <td>0.816738</td>\n",
       "      <td>-84</td>\n",
       "      <td>0.637381</td>\n",
       "      <td>gato</td>\n",
       "      <td>mal</td>\n",
       "      <td>Una olla de algo más vaca que carnero, salpicó...</td>\n",
       "    </tr>\n",
       "    <tr>\n",
       "      <th>4</th>\n",
       "      <td>32.0</td>\n",
       "      <td>28.0</td>\n",
       "      <td>0.571131</td>\n",
       "      <td>65</td>\n",
       "      <td>4.540614</td>\n",
       "      <td>gato</td>\n",
       "      <td>bien</td>\n",
       "      <td>Tenía en su casa una ama que pasaba de los cua...</td>\n",
       "    </tr>\n",
       "  </tbody>\n",
       "</table>\n",
       "</div>"
      ],
      "text/plain": [
       "   col_inexistente1  col2      col3  col_outliers  col_outliers2  \\\n",
       "0              59.0  52.0  2.232832           -50       0.771666   \n",
       "1              31.0  74.0  0.906147            -5       1.068558   \n",
       "2              81.0  28.0  0.626750           -32       0.846396   \n",
       "3              34.0  16.0  0.816738           -84       0.637381   \n",
       "4              32.0  28.0  0.571131            65       4.540614   \n",
       "\n",
       "  col_categorica col_ordinal  \\\n",
       "0          ratón    muy bien   \n",
       "1       elefante     regular   \n",
       "2          ratón     muy mal   \n",
       "3           gato         mal   \n",
       "4           gato        bien   \n",
       "\n",
       "                                           col_texto  \n",
       "0  Tenía en su casa una ama que pasaba de los cua...  \n",
       "1  El resto della concluían sayo de velarte, calz...  \n",
       "2  El resto della concluían sayo de velarte, calz...  \n",
       "3  Una olla de algo más vaca que carnero, salpicó...  \n",
       "4  Tenía en su casa una ama que pasaba de los cua...  "
      ]
     },
     "execution_count": 3,
     "metadata": {},
     "output_type": "execute_result"
    }
   ],
   "source": [
    "datos = pd.read_csv(\"datos_procesamiento.csv\")\n",
    "datos.head()"
   ]
  },
  {
   "cell_type": "code",
   "execution_count": 4,
   "metadata": {},
   "outputs": [
    {
     "data": {
      "text/plain": [
       "(1000, 8)"
      ]
     },
     "execution_count": 4,
     "metadata": {},
     "output_type": "execute_result"
    }
   ],
   "source": [
    "datos.shape"
   ]
  },
  {
   "cell_type": "code",
   "execution_count": 5,
   "metadata": {},
   "outputs": [
    {
     "data": {
      "text/plain": [
       "col_inexistente1    float64\n",
       "col2                float64\n",
       "col3                float64\n",
       "col_outliers          int64\n",
       "col_outliers2       float64\n",
       "col_categorica       object\n",
       "col_ordinal          object\n",
       "col_texto            object\n",
       "dtype: object"
      ]
     },
     "execution_count": 5,
     "metadata": {},
     "output_type": "execute_result"
    }
   ],
   "source": [
    "datos.dtypes"
   ]
  },
  {
   "cell_type": "markdown",
   "metadata": {},
   "source": [
    "# Variables numéricas\n",
    "\n",
    "## Imputación de datos"
   ]
  },
  {
   "cell_type": "code",
   "execution_count": 6,
   "metadata": {},
   "outputs": [],
   "source": [
    "from sklearn import preprocessing"
   ]
  },
  {
   "cell_type": "code",
   "execution_count": 7,
   "metadata": {},
   "outputs": [
    {
     "data": {
      "text/plain": [
       "Index(['col_inexistente1', 'col2', 'col3', 'col_outliers', 'col_outliers2'], dtype='object')"
      ]
     },
     "execution_count": 7,
     "metadata": {},
     "output_type": "execute_result"
    }
   ],
   "source": [
    "var_numericas_df = datos.select_dtypes([\"int\", \"float\"])\n",
    "var_numericas_df.columns"
   ]
  },
  {
   "cell_type": "code",
   "execution_count": 8,
   "metadata": {},
   "outputs": [
    {
     "data": {
      "text/plain": [
       "(96, 5)"
      ]
     },
     "execution_count": 8,
     "metadata": {},
     "output_type": "execute_result"
    }
   ],
   "source": [
    "var_numericas_df[var_numericas_df.isnull().any(axis=1)].shape"
   ]
  },
  {
   "cell_type": "code",
   "execution_count": 9,
   "metadata": {},
   "outputs": [
    {
     "data": {
      "text/html": [
       "<div>\n",
       "<style scoped>\n",
       "    .dataframe tbody tr th:only-of-type {\n",
       "        vertical-align: middle;\n",
       "    }\n",
       "\n",
       "    .dataframe tbody tr th {\n",
       "        vertical-align: top;\n",
       "    }\n",
       "\n",
       "    .dataframe thead th {\n",
       "        text-align: right;\n",
       "    }\n",
       "</style>\n",
       "<table border=\"1\" class=\"dataframe\">\n",
       "  <thead>\n",
       "    <tr style=\"text-align: right;\">\n",
       "      <th></th>\n",
       "      <th>col_inexistente1</th>\n",
       "      <th>col2</th>\n",
       "      <th>col3</th>\n",
       "      <th>col_outliers</th>\n",
       "      <th>col_outliers2</th>\n",
       "    </tr>\n",
       "  </thead>\n",
       "  <tbody>\n",
       "    <tr>\n",
       "      <th>9</th>\n",
       "      <td>NaN</td>\n",
       "      <td>53.0</td>\n",
       "      <td>2.270999</td>\n",
       "      <td>62</td>\n",
       "      <td>1.067230</td>\n",
       "    </tr>\n",
       "    <tr>\n",
       "      <th>10</th>\n",
       "      <td>NaN</td>\n",
       "      <td>99.0</td>\n",
       "      <td>1.394209</td>\n",
       "      <td>98</td>\n",
       "      <td>4.145716</td>\n",
       "    </tr>\n",
       "    <tr>\n",
       "      <th>16</th>\n",
       "      <td>NaN</td>\n",
       "      <td>50.0</td>\n",
       "      <td>0.437365</td>\n",
       "      <td>59</td>\n",
       "      <td>20.549474</td>\n",
       "    </tr>\n",
       "    <tr>\n",
       "      <th>17</th>\n",
       "      <td>NaN</td>\n",
       "      <td>73.0</td>\n",
       "      <td>0.324893</td>\n",
       "      <td>98</td>\n",
       "      <td>0.761684</td>\n",
       "    </tr>\n",
       "    <tr>\n",
       "      <th>23</th>\n",
       "      <td>NaN</td>\n",
       "      <td>85.0</td>\n",
       "      <td>3.664671</td>\n",
       "      <td>-48</td>\n",
       "      <td>3.154153</td>\n",
       "    </tr>\n",
       "  </tbody>\n",
       "</table>\n",
       "</div>"
      ],
      "text/plain": [
       "    col_inexistente1  col2      col3  col_outliers  col_outliers2\n",
       "9                NaN  53.0  2.270999            62       1.067230\n",
       "10               NaN  99.0  1.394209            98       4.145716\n",
       "16               NaN  50.0  0.437365            59      20.549474\n",
       "17               NaN  73.0  0.324893            98       0.761684\n",
       "23               NaN  85.0  3.664671           -48       3.154153"
      ]
     },
     "execution_count": 9,
     "metadata": {},
     "output_type": "execute_result"
    }
   ],
   "source": [
    "var_numericas_df[var_numericas_df.isnull().any(axis=1)].head()"
   ]
  },
  {
   "cell_type": "markdown",
   "metadata": {},
   "source": [
    "### SimpleImputer \n",
    "Modulo para imputación de datos "
   ]
  },
  {
   "cell_type": "code",
   "execution_count": 10,
   "metadata": {},
   "outputs": [],
   "source": [
    "from sklearn.impute import SimpleImputer"
   ]
  },
  {
   "cell_type": "code",
   "execution_count": 11,
   "metadata": {},
   "outputs": [],
   "source": [
    "imputador = SimpleImputer(strategy=\"mean\")"
   ]
  },
  {
   "cell_type": "code",
   "execution_count": 12,
   "metadata": {},
   "outputs": [],
   "source": [
    "var_numericas_imputadas = imputador.fit_transform(var_numericas_df)"
   ]
  },
  {
   "cell_type": "code",
   "execution_count": 13,
   "metadata": {},
   "outputs": [
    {
     "data": {
      "text/plain": [
       "array([[ 59.        ,  52.        ,   2.23283208, -50.        ,\n",
       "          0.77166646],\n",
       "       [ 31.        ,  74.        ,   0.90614714,  -5.        ,\n",
       "          1.06855838],\n",
       "       [ 81.        ,  28.        ,   0.62675042, -32.        ,\n",
       "          0.84639576],\n",
       "       ...,\n",
       "       [ 19.        ,  53.        ,   0.73723413,  73.        ,\n",
       "          1.34525201],\n",
       "       [ 88.        ,  94.        ,   0.76008706,  68.        ,\n",
       "          1.3692463 ],\n",
       "       [ 94.        ,  56.        ,   1.2299403 ,  61.        ,\n",
       "          0.94395714]])"
      ]
     },
     "execution_count": 13,
     "metadata": {},
     "output_type": "execute_result"
    }
   ],
   "source": [
    "var_numericas_imputadas"
   ]
  },
  {
   "cell_type": "code",
   "execution_count": 14,
   "metadata": {},
   "outputs": [
    {
     "data": {
      "text/html": [
       "<div>\n",
       "<style scoped>\n",
       "    .dataframe tbody tr th:only-of-type {\n",
       "        vertical-align: middle;\n",
       "    }\n",
       "\n",
       "    .dataframe tbody tr th {\n",
       "        vertical-align: top;\n",
       "    }\n",
       "\n",
       "    .dataframe thead th {\n",
       "        text-align: right;\n",
       "    }\n",
       "</style>\n",
       "<table border=\"1\" class=\"dataframe\">\n",
       "  <thead>\n",
       "    <tr style=\"text-align: right;\">\n",
       "      <th></th>\n",
       "      <th>col_inexistente1</th>\n",
       "      <th>col2</th>\n",
       "      <th>col3</th>\n",
       "      <th>col_outliers</th>\n",
       "      <th>col_outliers2</th>\n",
       "    </tr>\n",
       "  </thead>\n",
       "  <tbody>\n",
       "    <tr>\n",
       "      <th>0</th>\n",
       "      <td>59.000000</td>\n",
       "      <td>52.0</td>\n",
       "      <td>2.232832</td>\n",
       "      <td>-50.0</td>\n",
       "      <td>0.771666</td>\n",
       "    </tr>\n",
       "    <tr>\n",
       "      <th>1</th>\n",
       "      <td>31.000000</td>\n",
       "      <td>74.0</td>\n",
       "      <td>0.906147</td>\n",
       "      <td>-5.0</td>\n",
       "      <td>1.068558</td>\n",
       "    </tr>\n",
       "    <tr>\n",
       "      <th>2</th>\n",
       "      <td>81.000000</td>\n",
       "      <td>28.0</td>\n",
       "      <td>0.626750</td>\n",
       "      <td>-32.0</td>\n",
       "      <td>0.846396</td>\n",
       "    </tr>\n",
       "    <tr>\n",
       "      <th>3</th>\n",
       "      <td>34.000000</td>\n",
       "      <td>16.0</td>\n",
       "      <td>0.816738</td>\n",
       "      <td>-84.0</td>\n",
       "      <td>0.637381</td>\n",
       "    </tr>\n",
       "    <tr>\n",
       "      <th>4</th>\n",
       "      <td>32.000000</td>\n",
       "      <td>28.0</td>\n",
       "      <td>0.571131</td>\n",
       "      <td>65.0</td>\n",
       "      <td>4.540614</td>\n",
       "    </tr>\n",
       "    <tr>\n",
       "      <th>5</th>\n",
       "      <td>81.000000</td>\n",
       "      <td>4.0</td>\n",
       "      <td>1.618844</td>\n",
       "      <td>51.0</td>\n",
       "      <td>0.812940</td>\n",
       "    </tr>\n",
       "    <tr>\n",
       "      <th>6</th>\n",
       "      <td>57.000000</td>\n",
       "      <td>31.0</td>\n",
       "      <td>0.167880</td>\n",
       "      <td>78.0</td>\n",
       "      <td>1.235137</td>\n",
       "    </tr>\n",
       "    <tr>\n",
       "      <th>7</th>\n",
       "      <td>34.000000</td>\n",
       "      <td>20.0</td>\n",
       "      <td>20.229813</td>\n",
       "      <td>93.0</td>\n",
       "      <td>1.283176</td>\n",
       "    </tr>\n",
       "    <tr>\n",
       "      <th>8</th>\n",
       "      <td>37.000000</td>\n",
       "      <td>96.0</td>\n",
       "      <td>2.407978</td>\n",
       "      <td>54.0</td>\n",
       "      <td>1.298613</td>\n",
       "    </tr>\n",
       "    <tr>\n",
       "      <th>9</th>\n",
       "      <td>48.382743</td>\n",
       "      <td>53.0</td>\n",
       "      <td>2.270999</td>\n",
       "      <td>62.0</td>\n",
       "      <td>1.067230</td>\n",
       "    </tr>\n",
       "  </tbody>\n",
       "</table>\n",
       "</div>"
      ],
      "text/plain": [
       "   col_inexistente1  col2       col3  col_outliers  col_outliers2\n",
       "0         59.000000  52.0   2.232832         -50.0       0.771666\n",
       "1         31.000000  74.0   0.906147          -5.0       1.068558\n",
       "2         81.000000  28.0   0.626750         -32.0       0.846396\n",
       "3         34.000000  16.0   0.816738         -84.0       0.637381\n",
       "4         32.000000  28.0   0.571131          65.0       4.540614\n",
       "5         81.000000   4.0   1.618844          51.0       0.812940\n",
       "6         57.000000  31.0   0.167880          78.0       1.235137\n",
       "7         34.000000  20.0  20.229813          93.0       1.283176\n",
       "8         37.000000  96.0   2.407978          54.0       1.298613\n",
       "9         48.382743  53.0   2.270999          62.0       1.067230"
      ]
     },
     "execution_count": 14,
     "metadata": {},
     "output_type": "execute_result"
    }
   ],
   "source": [
    "var_numericas_imputadas_df = pd.DataFrame(var_numericas_imputadas,\n",
    "                                         index=var_numericas_df.index,\n",
    "                                         columns = var_numericas_df.columns)\n",
    "\n",
    "var_numericas_imputadas_df.head(10)"
   ]
  },
  {
   "cell_type": "markdown",
   "metadata": {},
   "source": [
    "## Estandarización\n",
    "Objetivo convertir las variables a una distribución con media 0 y desviación estandar 1"
   ]
  },
  {
   "cell_type": "code",
   "execution_count": 15,
   "metadata": {},
   "outputs": [
    {
     "data": {
      "text/plain": [
       "Index(['col_inexistente1', 'col2', 'col3', 'col_outliers', 'col_outliers2'], dtype='object')"
      ]
     },
     "execution_count": 15,
     "metadata": {},
     "output_type": "execute_result"
    }
   ],
   "source": [
    "var_numericas_df.columns"
   ]
  },
  {
   "cell_type": "code",
   "execution_count": 16,
   "metadata": {},
   "outputs": [
    {
     "data": {
      "text/plain": [
       "col_inexistente1     48.382743\n",
       "col2                 49.660000\n",
       "col3                  1.466095\n",
       "col_outliers          4.253000\n",
       "col_outliers2       131.193340\n",
       "dtype: float64"
      ]
     },
     "execution_count": 16,
     "metadata": {},
     "output_type": "execute_result"
    }
   ],
   "source": [
    "var_numericas_df.mean()"
   ]
  },
  {
   "cell_type": "code",
   "execution_count": 17,
   "metadata": {},
   "outputs": [
    {
     "data": {
      "text/plain": [
       "col_inexistente1      27.987174\n",
       "col2                  28.272668\n",
       "col3                   1.732358\n",
       "col_outliers          78.145901\n",
       "col_outliers2       3401.164776\n",
       "dtype: float64"
      ]
     },
     "execution_count": 17,
     "metadata": {},
     "output_type": "execute_result"
    }
   ],
   "source": [
    "var_numericas_df.std()"
   ]
  },
  {
   "cell_type": "code",
   "execution_count": 18,
   "metadata": {},
   "outputs": [],
   "source": [
    "escalador = preprocessing.StandardScaler()\n",
    "var_numericas_imputadas_escalado_estandar = escalador.fit_transform(var_numericas_imputadas)"
   ]
  },
  {
   "cell_type": "code",
   "execution_count": 19,
   "metadata": {},
   "outputs": [
    {
     "data": {
      "text/plain": [
       "array([ 48.38274336,  49.66      ,   1.46609489,   4.253     ,\n",
       "       131.19333968])"
      ]
     },
     "execution_count": 19,
     "metadata": {},
     "output_type": "execute_result"
    }
   ],
   "source": [
    "escalador.mean_"
   ]
  },
  {
   "cell_type": "code",
   "execution_count": 20,
   "metadata": {},
   "outputs": [
    {
     "data": {
      "text/plain": [
       "array([-5.86197757e-17,  1.26121336e-16, -3.81916720e-17,  3.55271368e-18,\n",
       "       -3.55271368e-18])"
      ]
     },
     "execution_count": 20,
     "metadata": {},
     "output_type": "execute_result"
    }
   ],
   "source": [
    "var_numericas_imputadas_escalado_estandar.mean(axis=0)"
   ]
  },
  {
   "cell_type": "code",
   "execution_count": 21,
   "metadata": {},
   "outputs": [
    {
     "data": {
      "text/plain": [
       "array([1., 1., 1., 1., 1.])"
      ]
     },
     "execution_count": 21,
     "metadata": {},
     "output_type": "execute_result"
    }
   ],
   "source": [
    "var_numericas_imputadas_escalado_estandar.std(axis=0)"
   ]
  },
  {
   "cell_type": "code",
   "execution_count": 22,
   "metadata": {},
   "outputs": [
    {
     "data": {
      "text/plain": [
       "array([ 0.39921733,  0.08280686,  0.44281884, -0.69460006, -0.03836537])"
      ]
     },
     "execution_count": 22,
     "metadata": {},
     "output_type": "execute_result"
    }
   ],
   "source": [
    "var_numericas_imputadas_escalado_estandar[0]"
   ]
  },
  {
   "cell_type": "markdown",
   "metadata": {},
   "source": [
    "Existen datasets que tienen una gran cantidad de outliers así que es posible que estandarizar usando la media y la desviación estandar no funcione bien el modelo. Para estos casos existen algunos estimadores más robustos (menos sensibles a la presencia de outliers) y emplear un [RobustScaler](https://scikit-learn.org/stable/modules/generated/sklearn.preprocessing.RobustScaler.html#sklearn.preprocessing.RobustScaler.fit_transform) que funciona substrayendo la mediana y escalando con el rango intercuartil IQR"
   ]
  },
  {
   "cell_type": "code",
   "execution_count": 23,
   "metadata": {},
   "outputs": [],
   "source": [
    "escalador_robusto = preprocessing.RobustScaler()\n",
    "var_numericas_imputadas_escalado_robusto = escalador_robusto.fit_transform(\n",
    "                                                                    var_numericas_imputadas)"
   ]
  },
  {
   "cell_type": "code",
   "execution_count": 24,
   "metadata": {},
   "outputs": [
    {
     "data": {
      "text/plain": [
       "array([-3.81916720e-17, -2.85106383e-02,  4.01958704e-01,  3.04018692e-02,\n",
       "        7.03130782e+01])"
      ]
     },
     "execution_count": 24,
     "metadata": {},
     "output_type": "execute_result"
    }
   ],
   "source": [
    "var_numericas_imputadas_escalado_robusto.mean(axis=0)"
   ]
  },
  {
   "cell_type": "code",
   "execution_count": 25,
   "metadata": {},
   "outputs": [
    {
     "data": {
      "text/plain": [
       "array([6.33218559e-01, 6.01245275e-01, 1.38651621e+00, 7.29970260e-01,\n",
       "       1.83690817e+03])"
      ]
     },
     "execution_count": 25,
     "metadata": {},
     "output_type": "execute_result"
    }
   ],
   "source": [
    "var_numericas_imputadas_escalado_robusto.std(axis=0)"
   ]
  },
  {
   "cell_type": "markdown",
   "metadata": {},
   "source": [
    "## Escalado a un rango especifico"
   ]
  },
  {
   "cell_type": "markdown",
   "metadata": {},
   "source": [
    "Hay casos en los que se quiere escalar los datos a un rango, generalmente [-1,1] o [0,1]. Para esto usamos [MinMaxScaler](https://scikit-learn.org/stable/modules/generated/sklearn.preprocessing.MinMaxScaler.html) que hace escalado minmax (obviamente)"
   ]
  },
  {
   "cell_type": "code",
   "execution_count": 26,
   "metadata": {},
   "outputs": [
    {
     "data": {
      "text/plain": [
       "-100.0"
      ]
     },
     "execution_count": 26,
     "metadata": {},
     "output_type": "execute_result"
    }
   ],
   "source": [
    "var_numericas_imputadas.min()"
   ]
  },
  {
   "cell_type": "code",
   "execution_count": 27,
   "metadata": {},
   "outputs": [
    {
     "data": {
      "text/plain": [
       "107357.85777352"
      ]
     },
     "execution_count": 27,
     "metadata": {},
     "output_type": "execute_result"
    }
   ],
   "source": [
    "var_numericas_imputadas.max()"
   ]
  },
  {
   "cell_type": "code",
   "execution_count": 29,
   "metadata": {},
   "outputs": [],
   "source": [
    "escalador_minmax = preprocessing.MinMaxScaler()\n",
    "var_numericas_imputadas_escalado_minmax = escalador_minmax.fit_transform(var_numericas_imputadas)"
   ]
  },
  {
   "cell_type": "code",
   "execution_count": 30,
   "metadata": {},
   "outputs": [
    {
     "data": {
      "text/plain": [
       "1.0"
      ]
     },
     "execution_count": 30,
     "metadata": {},
     "output_type": "execute_result"
    }
   ],
   "source": [
    "var_numericas_imputadas_escalado_minmax.max()"
   ]
  },
  {
   "cell_type": "code",
   "execution_count": 31,
   "metadata": {},
   "outputs": [
    {
     "data": {
      "text/plain": [
       "0.0"
      ]
     },
     "execution_count": 31,
     "metadata": {},
     "output_type": "execute_result"
    }
   ],
   "source": [
    "var_numericas_imputadas_escalado_minmax.min()"
   ]
  },
  {
   "cell_type": "markdown",
   "metadata": {},
   "source": [
    "Hay casos en los que se necesita tener las observaciones con norma unitaria (norma L2 o euclidiana). Para esos casos Podemos usar [Normalizer]()"
   ]
  },
  {
   "cell_type": "code",
   "execution_count": 34,
   "metadata": {},
   "outputs": [
    {
     "data": {
      "text/plain": [
       "array([ 0.38557802,  0.92041204,  0.01127066, -0.06219   ,  0.01329073])"
      ]
     },
     "execution_count": 34,
     "metadata": {},
     "output_type": "execute_result"
    }
   ],
   "source": [
    "normalizador = preprocessing.Normalizer()\n",
    "var_numericas_imputadas_normal = normalizador.fit_transform(var_numericas_imputadas)\n",
    "var_numericas_imputadas_normal[1,:]"
   ]
  },
  {
   "cell_type": "code",
   "execution_count": 35,
   "metadata": {},
   "outputs": [
    {
     "data": {
      "text/plain": [
       "1.0"
      ]
     },
     "execution_count": 35,
     "metadata": {},
     "output_type": "execute_result"
    }
   ],
   "source": [
    "np.linalg.norm(var_numericas_imputadas_normal[1,:])"
   ]
  },
  {
   "cell_type": "markdown",
   "metadata": {},
   "source": [
    "## Otras transformaciones\n",
    "\n",
    "Para aquellos casos en los que queremos aplicar una función diferente, ya sea arbitraria o diseñada por nosotros. se utiliza [FunctionTransformer]\n",
    "\n",
    "Por ejemplo la variable col3 no tiene una distribución normal, sino que tiene una asimetria muy marcada (es una distribución lognormal)"
   ]
  },
  {
   "cell_type": "code",
   "execution_count": 36,
   "metadata": {},
   "outputs": [
    {
     "data": {
      "text/plain": [
       "<matplotlib.axes._subplots.AxesSubplot at 0x7f3cd64bcf50>"
      ]
     },
     "execution_count": 36,
     "metadata": {},
     "output_type": "execute_result"
    },
    {
     "data": {
      "image/png": "[encoded data removed]",
      "text/plain": [
       "<Figure size 720x720 with 1 Axes>"
      ]
     },
     "metadata": {
      "needs_background": "light"
     },
     "output_type": "display_data"
    }
   ],
   "source": [
    "sns.kdeplot(datos.col3)"
   ]
  },
  {
   "cell_type": "markdown",
   "metadata": {},
   "source": [
    "Una practica frecuente y sencilla es aplicar el algoritmo a esta variable para convertirla en una distribución normal"
   ]
  },
  {
   "cell_type": "code",
   "execution_count": 37,
   "metadata": {},
   "outputs": [],
   "source": [
    "from sklearn.preprocessing import FunctionTransformer\n",
    "transformer = FunctionTransformer(np.log1p)"
   ]
  },
  {
   "cell_type": "code",
   "execution_count": 46,
   "metadata": {},
   "outputs": [
    {
     "data": {
      "text/plain": [
       "<matplotlib.axes._subplots.AxesSubplot at 0x7f3cd5423a10>"
      ]
     },
     "execution_count": 46,
     "metadata": {},
     "output_type": "execute_result"
    },
    {
     "data": {
      "image/png": "[encoded data removed]",
      "text/plain": [
       "<Figure size 720x720 with 1 Axes>"
      ]
     },
     "metadata": {
      "needs_background": "light"
     },
     "output_type": "display_data"
    }
   ],
   "source": [
    "col3_transformada = transformer.transform(datos[[\"col3\"]])\n",
    "sns.kdeplot(col3_transformada[\"col3\"])"
   ]
  },
  {
   "cell_type": "code",
   "execution_count": null,
   "metadata": {},
   "outputs": [],
   "source": []
  }
 ],
 "metadata": {
  "kernelspec": {
   "display_name": "Python 3",
   "language": "python",
   "name": "python3"
  },
  "language_info": {
   "codemirror_mode": {
    "name": "ipython",
    "version": 3
   },
   "file_extension": ".py",
   "mimetype": "text/x-python",
   "name": "python",
   "nbconvert_exporter": "python",
   "pygments_lexer": "ipython3",
   "version": "3.7.6"
  }
 },
 "nbformat": 4,
 "nbformat_minor": 4
}
