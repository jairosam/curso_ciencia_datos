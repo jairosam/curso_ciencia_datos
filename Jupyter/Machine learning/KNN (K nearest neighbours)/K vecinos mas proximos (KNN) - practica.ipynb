{
 "cells": [
  {
   "cell_type": "code",
   "execution_count": 1,
   "metadata": {},
   "outputs": [
    {
     "name": "stdout",
     "output_type": "stream",
     "text": [
      "2020-09-16T14:32:53-05:00\n",
      "\n",
      "CPython 3.7.6\n",
      "IPython 7.13.0\n",
      "\n",
      "compiler   : GCC 7.3.0\n",
      "system     : Linux\n",
      "release    : 5.4.0-47-generic\n",
      "machine    : x86_64\n",
      "processor  : x86_64\n",
      "CPU cores  : 4\n",
      "interpreter: 64bit\n"
     ]
    }
   ],
   "source": [
    "%load_ext watermark\n",
    "%watermark"
   ]
  },
  {
   "cell_type": "code",
   "execution_count": 2,
   "metadata": {},
   "outputs": [],
   "source": [
    "import pandas as pd\n",
    "import numpy as np\n",
    "import matplotlib\n",
    "import matplotlib.pyplot as plt\n",
    "\n",
    "%matplotlib inline\n",
    "plt.rcParams['figure.figsize'] = (12,12)\n",
    "np.random.seed(42)"
   ]
  },
  {
   "cell_type": "markdown",
   "metadata": {},
   "source": [
    "## Knn - K vecinos más proximos\n",
    "\n",
    "Vamos a ver como vamos a usar el algoritmo KNN en scikit-learn.\n",
    "\n",
    "El algoritmo KNN se usar en problemas de clasificacion (con el estimador [KNeighborsClassifier](https://scikit-learn.org/stable/modules/generated/sklearn.neighbors.KNeighborsClassifier.html)) como en problemas de regresión (con el estimador [KneighborsRegressor](https://scikit-learn.org/stable/modules/generated/sklearn.neighbors.KNeighborsRegressor.html))"
   ]
  },
  {
   "cell_type": "code",
   "execution_count": 3,
   "metadata": {},
   "outputs": [
    {
     "data": {
      "text/html": [
       "<div>\n",
       "<style scoped>\n",
       "    .dataframe tbody tr th:only-of-type {\n",
       "        vertical-align: middle;\n",
       "    }\n",
       "\n",
       "    .dataframe tbody tr th {\n",
       "        vertical-align: top;\n",
       "    }\n",
       "\n",
       "    .dataframe thead th {\n",
       "        text-align: right;\n",
       "    }\n",
       "</style>\n",
       "<table border=\"1\" class=\"dataframe\">\n",
       "  <thead>\n",
       "    <tr style=\"text-align: right;\">\n",
       "      <th></th>\n",
       "      <th>pelicula</th>\n",
       "      <th>año</th>\n",
       "      <th>ratings</th>\n",
       "      <th>genero</th>\n",
       "      <th>ventas</th>\n",
       "      <th>presupuesto</th>\n",
       "      <th>secuela</th>\n",
       "      <th>vistas_youtube</th>\n",
       "      <th>positivos_youtube</th>\n",
       "      <th>negativos_youtube</th>\n",
       "      <th>comentarios</th>\n",
       "      <th>seguidores_agregados</th>\n",
       "    </tr>\n",
       "  </thead>\n",
       "  <tbody>\n",
       "    <tr>\n",
       "      <th>0</th>\n",
       "      <td>13 Sins</td>\n",
       "      <td>2014</td>\n",
       "      <td>6.3</td>\n",
       "      <td>8</td>\n",
       "      <td>9130</td>\n",
       "      <td>4000000.0</td>\n",
       "      <td>1</td>\n",
       "      <td>3280543</td>\n",
       "      <td>4632</td>\n",
       "      <td>425</td>\n",
       "      <td>636</td>\n",
       "      <td>1120000.0</td>\n",
       "    </tr>\n",
       "    <tr>\n",
       "      <th>1</th>\n",
       "      <td>22 Jump Street</td>\n",
       "      <td>2014</td>\n",
       "      <td>7.1</td>\n",
       "      <td>1</td>\n",
       "      <td>192000000</td>\n",
       "      <td>50000000.0</td>\n",
       "      <td>2</td>\n",
       "      <td>583289</td>\n",
       "      <td>3465</td>\n",
       "      <td>61</td>\n",
       "      <td>186</td>\n",
       "      <td>12350000.0</td>\n",
       "    </tr>\n",
       "    <tr>\n",
       "      <th>2</th>\n",
       "      <td>3 Days to Kill</td>\n",
       "      <td>2014</td>\n",
       "      <td>6.2</td>\n",
       "      <td>1</td>\n",
       "      <td>30700000</td>\n",
       "      <td>28000000.0</td>\n",
       "      <td>1</td>\n",
       "      <td>304861</td>\n",
       "      <td>328</td>\n",
       "      <td>34</td>\n",
       "      <td>47</td>\n",
       "      <td>483000.0</td>\n",
       "    </tr>\n",
       "    <tr>\n",
       "      <th>3</th>\n",
       "      <td>300: Rise of an Empire</td>\n",
       "      <td>2014</td>\n",
       "      <td>6.3</td>\n",
       "      <td>1</td>\n",
       "      <td>106000000</td>\n",
       "      <td>110000000.0</td>\n",
       "      <td>2</td>\n",
       "      <td>452917</td>\n",
       "      <td>2429</td>\n",
       "      <td>132</td>\n",
       "      <td>590</td>\n",
       "      <td>568000.0</td>\n",
       "    </tr>\n",
       "    <tr>\n",
       "      <th>4</th>\n",
       "      <td>A Haunted House 2</td>\n",
       "      <td>2014</td>\n",
       "      <td>4.7</td>\n",
       "      <td>8</td>\n",
       "      <td>17300000</td>\n",
       "      <td>3500000.0</td>\n",
       "      <td>2</td>\n",
       "      <td>3145573</td>\n",
       "      <td>12163</td>\n",
       "      <td>610</td>\n",
       "      <td>1082</td>\n",
       "      <td>1923800.0</td>\n",
       "    </tr>\n",
       "  </tbody>\n",
       "</table>\n",
       "</div>"
      ],
      "text/plain": [
       "                 pelicula   año  ratings  genero     ventas  presupuesto  \\\n",
       "0                 13 Sins  2014      6.3       8       9130    4000000.0   \n",
       "1          22 Jump Street  2014      7.1       1  192000000   50000000.0   \n",
       "2          3 Days to Kill  2014      6.2       1   30700000   28000000.0   \n",
       "3  300: Rise of an Empire  2014      6.3       1  106000000  110000000.0   \n",
       "4       A Haunted House 2  2014      4.7       8   17300000    3500000.0   \n",
       "\n",
       "   secuela  vistas_youtube  positivos_youtube  negativos_youtube  comentarios  \\\n",
       "0        1         3280543               4632                425          636   \n",
       "1        2          583289               3465                 61          186   \n",
       "2        1          304861                328                 34           47   \n",
       "3        2          452917               2429                132          590   \n",
       "4        2         3145573              12163                610         1082   \n",
       "\n",
       "   seguidores_agregados  \n",
       "0             1120000.0  \n",
       "1            12350000.0  \n",
       "2              483000.0  \n",
       "3              568000.0  \n",
       "4             1923800.0  "
      ]
     },
     "execution_count": 3,
     "metadata": {},
     "output_type": "execute_result"
    }
   ],
   "source": [
    "pelis = pd.read_csv(\"datos_peliculas.csv\")\n",
    "pelis.head()"
   ]
  },
  {
   "cell_type": "code",
   "execution_count": 4,
   "metadata": {},
   "outputs": [
    {
     "data": {
      "text/plain": [
       "(231, 12)"
      ]
     },
     "execution_count": 4,
     "metadata": {},
     "output_type": "execute_result"
    }
   ],
   "source": [
    "pelis.shape"
   ]
  },
  {
   "cell_type": "code",
   "execution_count": 5,
   "metadata": {},
   "outputs": [],
   "source": [
    "pelis = pelis.drop(\"pelicula\", axis=1)"
   ]
  },
  {
   "cell_type": "code",
   "execution_count": 6,
   "metadata": {},
   "outputs": [],
   "source": [
    "from sklearn.neighbors import KNeighborsClassifier, KNeighborsRegressor\n",
    "from sklearn.model_selection import train_test_split"
   ]
  },
  {
   "cell_type": "markdown",
   "metadata": {},
   "source": [
    "## KNN para problemas de clasificación\n",
    "\n",
    "Predecir el genero de una categoria en función de su popularidad"
   ]
  },
  {
   "cell_type": "code",
   "execution_count": 7,
   "metadata": {},
   "outputs": [],
   "source": [
    "from sklearn.metrics import f1_score"
   ]
  },
  {
   "cell_type": "code",
   "execution_count": 8,
   "metadata": {},
   "outputs": [],
   "source": [
    "variable_objetivo_clasificacion = \"genero\"\n",
    "variables_independientes_clasificacion = pelis.drop(\n",
    "    [variable_objetivo_clasificacion], axis=1).columns"
   ]
  },
  {
   "cell_type": "code",
   "execution_count": 9,
   "metadata": {},
   "outputs": [],
   "source": [
    "X_train, X_test, y_train, y_test = train_test_split(\n",
    "    pelis[variables_independientes_clasificacion],\n",
    "    pelis[variable_objetivo_clasificacion], test_size=0.20)"
   ]
  },
  {
   "cell_type": "code",
   "execution_count": 10,
   "metadata": {},
   "outputs": [],
   "source": [
    "KNeighborsClassifier?"
   ]
  },
  {
   "cell_type": "markdown",
   "metadata": {},
   "source": [
    "La función tiene varios parametros importantes\n",
    "\n",
    "* n_neighbors: numero de vecinos a analizar.\n",
    "* weights: se pueden trabajar de dos maneras\n",
    "    * uniform: todos los puntos tienen el mismo peso sin importar la distancia.\n",
    "    * distance: el peso de los puntos esta definido en función de la distancia.\n",
    "* metric: como se calcula la distancia a los puntos (por defecto es la distancia euclidiana)"
   ]
  },
  {
   "cell_type": "code",
   "execution_count": 11,
   "metadata": {},
   "outputs": [
    {
     "data": {
      "text/html": [
       "<div>\n",
       "<style scoped>\n",
       "    .dataframe tbody tr th:only-of-type {\n",
       "        vertical-align: middle;\n",
       "    }\n",
       "\n",
       "    .dataframe tbody tr th {\n",
       "        vertical-align: top;\n",
       "    }\n",
       "\n",
       "    .dataframe thead th {\n",
       "        text-align: right;\n",
       "    }\n",
       "</style>\n",
       "<table border=\"1\" class=\"dataframe\">\n",
       "  <thead>\n",
       "    <tr style=\"text-align: right;\">\n",
       "      <th></th>\n",
       "      <th>año</th>\n",
       "      <th>ratings</th>\n",
       "      <th>ventas</th>\n",
       "      <th>presupuesto</th>\n",
       "      <th>secuela</th>\n",
       "      <th>vistas_youtube</th>\n",
       "      <th>positivos_youtube</th>\n",
       "      <th>negativos_youtube</th>\n",
       "      <th>comentarios</th>\n",
       "      <th>seguidores_agregados</th>\n",
       "    </tr>\n",
       "  </thead>\n",
       "  <tbody>\n",
       "    <tr>\n",
       "      <th>55</th>\n",
       "      <td>2014</td>\n",
       "      <td>8.7</td>\n",
       "      <td>188000000</td>\n",
       "      <td>165000000.0</td>\n",
       "      <td>1</td>\n",
       "      <td>5421705</td>\n",
       "      <td>16635</td>\n",
       "      <td>751</td>\n",
       "      <td>4316</td>\n",
       "      <td>1865000.0</td>\n",
       "    </tr>\n",
       "    <tr>\n",
       "      <th>229</th>\n",
       "      <td>2015</td>\n",
       "      <td>5.4</td>\n",
       "      <td>12300000</td>\n",
       "      <td>3000000.0</td>\n",
       "      <td>1</td>\n",
       "      <td>66872</td>\n",
       "      <td>400</td>\n",
       "      <td>67</td>\n",
       "      <td>201</td>\n",
       "      <td>0.0</td>\n",
       "    </tr>\n",
       "    <tr>\n",
       "      <th>69</th>\n",
       "      <td>2014</td>\n",
       "      <td>6.4</td>\n",
       "      <td>127000000</td>\n",
       "      <td>40000000.0</td>\n",
       "      <td>1</td>\n",
       "      <td>1142964</td>\n",
       "      <td>2346</td>\n",
       "      <td>167</td>\n",
       "      <td>311</td>\n",
       "      <td>0.0</td>\n",
       "    </tr>\n",
       "    <tr>\n",
       "      <th>168</th>\n",
       "      <td>2015</td>\n",
       "      <td>6.7</td>\n",
       "      <td>183000000</td>\n",
       "      <td>29000000.0</td>\n",
       "      <td>2</td>\n",
       "      <td>9214467</td>\n",
       "      <td>39824</td>\n",
       "      <td>998</td>\n",
       "      <td>1987</td>\n",
       "      <td>7336000.0</td>\n",
       "    </tr>\n",
       "    <tr>\n",
       "      <th>109</th>\n",
       "      <td>2014</td>\n",
       "      <td>7.1</td>\n",
       "      <td>2590000</td>\n",
       "      <td>9500000.0</td>\n",
       "      <td>1</td>\n",
       "      <td>134353</td>\n",
       "      <td>280</td>\n",
       "      <td>43</td>\n",
       "      <td>308</td>\n",
       "      <td>0.0</td>\n",
       "    </tr>\n",
       "  </tbody>\n",
       "</table>\n",
       "</div>"
      ],
      "text/plain": [
       "      año  ratings     ventas  presupuesto  secuela  vistas_youtube  \\\n",
       "55   2014      8.7  188000000  165000000.0        1         5421705   \n",
       "229  2015      5.4   12300000    3000000.0        1           66872   \n",
       "69   2014      6.4  127000000   40000000.0        1         1142964   \n",
       "168  2015      6.7  183000000   29000000.0        2         9214467   \n",
       "109  2014      7.1    2590000    9500000.0        1          134353   \n",
       "\n",
       "     positivos_youtube  negativos_youtube  comentarios  seguidores_agregados  \n",
       "55               16635                751         4316             1865000.0  \n",
       "229                400                 67          201                   0.0  \n",
       "69                2346                167          311                   0.0  \n",
       "168              39824                998         1987             7336000.0  \n",
       "109                280                 43          308                   0.0  "
      ]
     },
     "execution_count": 11,
     "metadata": {},
     "output_type": "execute_result"
    }
   ],
   "source": [
    "X_train.head()"
   ]
  },
  {
   "cell_type": "code",
   "execution_count": 12,
   "metadata": {},
   "outputs": [],
   "source": [
    "clasificador_knn = KNeighborsClassifier(n_neighbors=10, \n",
    "                                        weights=\"uniform\")"
   ]
  },
  {
   "cell_type": "code",
   "execution_count": 13,
   "metadata": {},
   "outputs": [
    {
     "data": {
      "text/plain": [
       "KNeighborsClassifier(n_neighbors=10)"
      ]
     },
     "execution_count": 13,
     "metadata": {},
     "output_type": "execute_result"
    }
   ],
   "source": [
    "clasificador_knn.fit(X_train, y_train)"
   ]
  },
  {
   "cell_type": "code",
   "execution_count": 14,
   "metadata": {},
   "outputs": [
    {
     "data": {
      "text/plain": [
       "array([3, 8, 8, 1, 3, 2, 8, 3, 2, 1])"
      ]
     },
     "execution_count": 14,
     "metadata": {},
     "output_type": "execute_result"
    }
   ],
   "source": [
    "preds = clasificador_knn.predict(X_test)\n",
    "preds[:10]"
   ]
  },
  {
   "cell_type": "code",
   "execution_count": 15,
   "metadata": {},
   "outputs": [
    {
     "name": "stdout",
     "output_type": "stream",
     "text": [
      "[3 8 8 1 3 2 8 3 2 1] \n",
      "Score F1: 0.3617021276595745\n"
     ]
    },
    {
     "data": {
      "text/plain": [
       "0.3617021276595745"
      ]
     },
     "execution_count": 15,
     "metadata": {},
     "output_type": "execute_result"
    }
   ],
   "source": [
    "print(preds[:10], \"\\nScore F1: {}\".format(clasificador_knn.score(X_test,y_test)))\n",
    "\n",
    "f1_score(y_test, preds, average=\"micro\")"
   ]
  },
  {
   "cell_type": "code",
   "execution_count": 16,
   "metadata": {},
   "outputs": [
    {
     "name": "stdout",
     "output_type": "stream",
     "text": [
      "[3 8 8 1 3 2 8 3 3 9] \n",
      "score F1: 0.3829787234042553\n"
     ]
    },
    {
     "data": {
      "text/plain": [
       "0.38297872340425526"
      ]
     },
     "execution_count": 16,
     "metadata": {},
     "output_type": "execute_result"
    }
   ],
   "source": [
    "clasificador_knn = KNeighborsClassifier(n_neighbors=10,\n",
    "                                       weights=\"distance\")\n",
    "\n",
    "clasificador_knn.fit(X_train, y_train)\n",
    "preds = clasificador_knn.predict(X_test)\n",
    "print(preds[:10], \"\\nscore F1: {}\".format(clasificador_knn.score(X_test,y_test)))\n",
    "f1_score(y_test,preds,average=\"micro\")"
   ]
  },
  {
   "cell_type": "code",
   "execution_count": 17,
   "metadata": {},
   "outputs": [],
   "source": [
    "from sklearn.metrics import classification_report"
   ]
  },
  {
   "cell_type": "code",
   "execution_count": 18,
   "metadata": {},
   "outputs": [
    {
     "name": "stdout",
     "output_type": "stream",
     "text": [
      "              precision    recall  f1-score   support\n",
      "\n",
      "           1       0.31      0.50      0.38        10\n",
      "           2       0.00      0.00      0.00         2\n",
      "           3       0.45      0.42      0.43        12\n",
      "           4       0.00      0.00      0.00         1\n",
      "           6       0.00      0.00      0.00         0\n",
      "           8       0.57      0.67      0.62        12\n",
      "           9       0.00      0.00      0.00         4\n",
      "          10       0.00      0.00      0.00         3\n",
      "          12       0.00      0.00      0.00         3\n",
      "          15       0.00      0.00      0.00         0\n",
      "\n",
      "    accuracy                           0.38        47\n",
      "   macro avg       0.13      0.16      0.14        47\n",
      "weighted avg       0.33      0.38      0.35        47\n",
      "\n"
     ]
    },
    {
     "name": "stderr",
     "output_type": "stream",
     "text": [
      "/home/buitrago/anaconda3/lib/python3.7/site-packages/sklearn/metrics/_classification.py:1221: UndefinedMetricWarning: Precision and F-score are ill-defined and being set to 0.0 in labels with no predicted samples. Use `zero_division` parameter to control this behavior.\n",
      "  _warn_prf(average, modifier, msg_start, len(result))\n",
      "/home/buitrago/anaconda3/lib/python3.7/site-packages/sklearn/metrics/_classification.py:1221: UndefinedMetricWarning: Recall and F-score are ill-defined and being set to 0.0 in labels with no true samples. Use `zero_division` parameter to control this behavior.\n",
      "  _warn_prf(average, modifier, msg_start, len(result))\n"
     ]
    }
   ],
   "source": [
    "print(classification_report(y_test,preds))"
   ]
  },
  {
   "cell_type": "code",
   "execution_count": 19,
   "metadata": {},
   "outputs": [],
   "source": [
    "classification_report?"
   ]
  },
  {
   "cell_type": "markdown",
   "metadata": {},
   "source": [
    "Podemos usar KNeighbors para devolver los vecinos más cercanos"
   ]
  },
  {
   "cell_type": "code",
   "execution_count": 20,
   "metadata": {},
   "outputs": [
    {
     "data": {
      "text/plain": [
       "año                         2015.0\n",
       "ratings                        7.7\n",
       "ventas                  49500000.0\n",
       "presupuesto             30000000.0\n",
       "secuela                        1.0\n",
       "vistas_youtube          11476882.0\n",
       "positivos_youtube          40496.0\n",
       "negativos_youtube           1383.0\n",
       "comentarios                 4435.0\n",
       "seguidores_agregados           0.0\n",
       "Name: 218, dtype: float64"
      ]
     },
     "execution_count": 20,
     "metadata": {},
     "output_type": "execute_result"
    }
   ],
   "source": [
    "X_test.iloc[0]"
   ]
  },
  {
   "cell_type": "code",
   "execution_count": 21,
   "metadata": {},
   "outputs": [
    {
     "data": {
      "text/plain": [
       "(array([[8648469.61304606]]), array([[156]]))"
      ]
     },
     "execution_count": 21,
     "metadata": {},
     "output_type": "execute_result"
    }
   ],
   "source": [
    "distancia, indice = clasificador_knn.kneighbors(\n",
    "    [X_test.iloc[0]], n_neighbors=1\n",
    ")\n",
    "distancia, indice"
   ]
  },
  {
   "cell_type": "code",
   "execution_count": 22,
   "metadata": {},
   "outputs": [
    {
     "data": {
      "text/html": [
       "<div>\n",
       "<style scoped>\n",
       "    .dataframe tbody tr th:only-of-type {\n",
       "        vertical-align: middle;\n",
       "    }\n",
       "\n",
       "    .dataframe tbody tr th {\n",
       "        vertical-align: top;\n",
       "    }\n",
       "\n",
       "    .dataframe thead th {\n",
       "        text-align: right;\n",
       "    }\n",
       "</style>\n",
       "<table border=\"1\" class=\"dataframe\">\n",
       "  <thead>\n",
       "    <tr style=\"text-align: right;\">\n",
       "      <th></th>\n",
       "      <th>año</th>\n",
       "      <th>ratings</th>\n",
       "      <th>ventas</th>\n",
       "      <th>presupuesto</th>\n",
       "      <th>secuela</th>\n",
       "      <th>vistas_youtube</th>\n",
       "      <th>positivos_youtube</th>\n",
       "      <th>negativos_youtube</th>\n",
       "      <th>comentarios</th>\n",
       "      <th>seguidores_agregados</th>\n",
       "    </tr>\n",
       "  </thead>\n",
       "  <tbody>\n",
       "    <tr>\n",
       "      <th>191</th>\n",
       "      <td>2015</td>\n",
       "      <td>7.3</td>\n",
       "      <td>42500000</td>\n",
       "      <td>25000000.0</td>\n",
       "      <td>1</td>\n",
       "      <td>11036701</td>\n",
       "      <td>50002</td>\n",
       "      <td>1005</td>\n",
       "      <td>3525</td>\n",
       "      <td>776000.0</td>\n",
       "    </tr>\n",
       "  </tbody>\n",
       "</table>\n",
       "</div>"
      ],
      "text/plain": [
       "      año  ratings    ventas  presupuesto  secuela  vistas_youtube  \\\n",
       "191  2015      7.3  42500000   25000000.0        1        11036701   \n",
       "\n",
       "     positivos_youtube  negativos_youtube  comentarios  seguidores_agregados  \n",
       "191              50002               1005         3525              776000.0  "
      ]
     },
     "execution_count": 22,
     "metadata": {},
     "output_type": "execute_result"
    }
   ],
   "source": [
    "X_train.iloc[indice[0]]"
   ]
  },
  {
   "cell_type": "markdown",
   "metadata": {},
   "source": [
    "## Knn para problemas de regresión"
   ]
  },
  {
   "cell_type": "code",
   "execution_count": 23,
   "metadata": {},
   "outputs": [],
   "source": [
    "from sklearn.metrics import mean_squared_error\n",
    "\n",
    "variable_objetivo_regresion = \"ventas\"\n",
    "variables_independientes_regresion = pelis.drop(variable_objetivo_regresion,axis=1).columns"
   ]
  },
  {
   "cell_type": "code",
   "execution_count": 26,
   "metadata": {},
   "outputs": [],
   "source": [
    "X_train, X_test, y_train, y_test = train_test_split(\n",
    "    pelis[variables_independientes_regresion],\n",
    "    pelis[variable_objetivo_regresion], test_size=0.20)"
   ]
  },
  {
   "cell_type": "code",
   "execution_count": 27,
   "metadata": {},
   "outputs": [],
   "source": [
    "KNeighborsRegressor?"
   ]
  },
  {
   "cell_type": "markdown",
   "metadata": {},
   "source": [
    "Tiene los mismos parametros del de clasificación"
   ]
  },
  {
   "cell_type": "code",
   "execution_count": 28,
   "metadata": {},
   "outputs": [
    {
     "data": {
      "text/plain": [
       "KNeighborsRegressor(n_neighbors=10, weights='distance')"
      ]
     },
     "execution_count": 28,
     "metadata": {},
     "output_type": "execute_result"
    }
   ],
   "source": [
    "regresor_knn = KNeighborsRegressor(n_neighbors=10, weights=\"distance\")\n",
    "\n",
    "regresor_knn.fit(X_train,y_train)"
   ]
  },
  {
   "cell_type": "code",
   "execution_count": 29,
   "metadata": {},
   "outputs": [
    {
     "data": {
      "text/plain": [
       "array([5.77598582e+06, 1.99218779e+08, 5.22718267e+07, 3.04748097e+06,\n",
       "       7.80062231e+07, 4.78727214e+07, 5.21240238e+07, 5.93022167e+07,\n",
       "       7.49468197e+07, 9.12329679e+07, 7.03489473e+07, 1.82692317e+08,\n",
       "       2.82445048e+07, 1.08624687e+07, 3.97173720e+07, 4.03493052e+07,\n",
       "       3.63396779e+07, 3.23651506e+07, 1.21506362e+07, 2.18446367e+07,\n",
       "       1.29536895e+08, 1.12369979e+07, 4.43514409e+07, 4.01796045e+07,\n",
       "       1.32035921e+07, 1.02480559e+08, 9.88894202e+07, 9.56558550e+07,\n",
       "       7.74208639e+07, 3.06222002e+08, 9.01985135e+07, 3.57704603e+06,\n",
       "       7.15873565e+06, 1.59847370e+08, 5.88276776e+07, 2.23216488e+08,\n",
       "       1.27252372e+07, 3.99596725e+07, 3.71233940e+07, 8.00191716e+07,\n",
       "       3.10354554e+07, 3.86931786e+07, 1.94912972e+08, 2.23710764e+08,\n",
       "       5.81636294e+07, 2.26283159e+07, 1.19539899e+07])"
      ]
     },
     "execution_count": 29,
     "metadata": {},
     "output_type": "execute_result"
    }
   ],
   "source": [
    "preds = regresor_knn.predict(X_test)\n",
    "preds"
   ]
  },
  {
   "cell_type": "code",
   "execution_count": 30,
   "metadata": {},
   "outputs": [
    {
     "name": "stdout",
     "output_type": "stream",
     "text": [
      "error cuadratico medio: 43959789.048082694\n"
     ]
    }
   ],
   "source": [
    "print(\"error cuadratico medio: {}\".format(\n",
    "np.sqrt(np.abs(mean_squared_error(y_test,preds)))))"
   ]
  },
  {
   "cell_type": "markdown",
   "metadata": {},
   "source": [
    "Funcionamiento de clasificador y regresor con validacion cruzada"
   ]
  },
  {
   "cell_type": "code",
   "execution_count": 31,
   "metadata": {},
   "outputs": [],
   "source": [
    "from sklearn.model_selection import cross_val_score"
   ]
  },
  {
   "cell_type": "code",
   "execution_count": 35,
   "metadata": {},
   "outputs": [
    {
     "name": "stderr",
     "output_type": "stream",
     "text": [
      "/home/buitrago/anaconda3/lib/python3.7/site-packages/sklearn/model_selection/_split.py:672: UserWarning: The least populated class in y has only 1 members, which is less than n_splits=5.\n",
      "  % (min_groups, self.n_splits)), UserWarning)\n"
     ]
    },
    {
     "data": {
      "text/plain": [
       "0.5541033543388334"
      ]
     },
     "execution_count": 35,
     "metadata": {},
     "output_type": "execute_result"
    }
   ],
   "source": [
    "error = np.sqrt(cross_val_score(KNeighborsClassifier(n_neighbors=10, weights=\"distance\"),\n",
    "                       X=pelis[variables_independientes_clasificacion],\n",
    "                       y=pelis[variable_objetivo_clasificacion],scoring=\"f1_micro\").mean()\n",
    "               )\n",
    "error"
   ]
  },
  {
   "cell_type": "code",
   "execution_count": 37,
   "metadata": {},
   "outputs": [
    {
     "data": {
      "text/plain": [
       "67491922.421441"
      ]
     },
     "execution_count": 37,
     "metadata": {},
     "output_type": "execute_result"
    }
   ],
   "source": [
    "error = np.sqrt(np.abs((cross_val_score(KNeighborsRegressor(n_neighbors=10, weights=\"distance\"),\n",
    "                       X=pelis[variables_independientes_regresion],\n",
    "                       y=pelis[variable_objetivo_regresion],scoring=\"neg_mean_squared_error\").mean()\n",
    "               )))\n",
    "error"
   ]
  },
  {
   "cell_type": "code",
   "execution_count": null,
   "metadata": {},
   "outputs": [],
   "source": []
  }
 ],
 "metadata": {
  "kernelspec": {
   "display_name": "Python 3",
   "language": "python",
   "name": "python3"
  },
  "language_info": {
   "codemirror_mode": {
    "name": "ipython",
    "version": 3
   },
   "file_extension": ".py",
   "mimetype": "text/x-python",
   "name": "python",
   "nbconvert_exporter": "python",
   "pygments_lexer": "ipython3",
   "version": "3.7.6"
  }
 },
 "nbformat": 4,
 "nbformat_minor": 4
}
