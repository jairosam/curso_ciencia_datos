{
 "cells": [
  {
   "cell_type": "markdown",
   "metadata": {},
   "source": [
    "# Regularización\n",
    "\n",
    "### recuerdo regresión"
   ]
  },
  {
   "cell_type": "markdown",
   "metadata": {},
   "source": [
    "$$\\hat{y} = \\alpha + \\beta_1 * x_1 + \\beta_2 * x_2 + ... + \\beta_n * x_n + \\epsilon$$\n",
    "\n",
    "$\\hat{y} \\rightarrow$ Predicción de la variable objetivo\n",
    "\n",
    "$\\alpha \\rightarrow$ Termino independiente\n",
    "\n",
    "$\\beta_i \\rightarrow$ Coeficiente de la variable de entrada $i$\n",
    "\n",
    "$x_i \\rightarrow$ valor de la variable de entrada $i$\n",
    "\n",
    "$\\epsilon \\rightarrow$ Residuo (error)"
   ]
  },
  {
   "cell_type": "markdown",
   "metadata": {},
   "source": [
    "Buscamos minimizar el error, para ello debemos:\n",
    "1. Objetivo (minimizar error):\n",
    "$$min_{\\hat{\\alpha}, \\hat{\\beta}} \\sum_{i=1}^{n}(\\epsilon)^2 \\rightarrow min_{\\hat{\\alpha}, \\hat{\\beta}} \\sum_{i=1}^{n} \\left( y_i - \\hat{\\alpha} - \\hat{\\beta} * x_i \\right) = S(\\hat{\\alpha},\\hat{\\beta})$$\n",
    "\n",
    "2. Encontrar minimos:\n",
    "\n",
    "$$\\dfrac{\\partial S(\\hat{\\alpha},\\hat{\\beta})}{\\partial \\hat{\\alpha}} = -2\\sum_{i=1}^{n} (y_i - \\hat{\\alpha} - \\hat{\\beta} * x_i) = 0$$\n",
    "\n",
    "$$\\dfrac{\\partial S(\\hat{\\alpha},\\hat{\\beta})}{\\partial \\hat{\\beta}} = -2\\sum_{i=1}^{n} (y_i - \\hat{\\alpha} - \\hat{\\beta} * x_i)*x_i = 0$$\n",
    "\n",
    "3. Resolver ecuación lineal\n",
    "\n",
    "$$\\hat{\\alpha} = \\bar{y} - \\hat{\\beta} * \\bar{x}$$\n",
    "\n",
    "$$\\dfrac{\\sum_{i=1}^{n} (y_i - \\bar{y})(x_i - \\bar{x})}{\\sum_{i=1}^{n} (\\bar{x_i - \\bar{x}})^2} = \\dfrac{Cov(x,y)}{Var(x,y)} = X'X^{-1}X'y$$"
   ]
  },
  {
   "cell_type": "markdown",
   "metadata": {},
   "source": [
    "### Regresión polinomial\n",
    "$$f(x) = x_0 + \\beta_0x_0 + \\beta_1x_1 + \\beta_2x_0x_1 + \\beta_3x_0^2 + \\beta_4x_1^2 + \\beta_5x_0^3 + ...$$\n",
    "\n",
    "Estas regresiones resultan tener una complejidad muy alta, existen medidas para saber que tanta complejidad tiene un modelo y asi saber si existe sobreajuste o sobregeneralización\n",
    "\n",
    "## Medidas de complejidad en modelos lineales\n",
    "\n",
    "Norma L1 $\\displaystyle\\sum_{i=1}^{n} |\\beta_i|$\n",
    "\n",
    "Norma L2 $\\displaystyle\\sum_{i=1}^{n} \\beta_i^2$\n",
    "\n",
    "## Regularización en modelos lineales\n",
    "\n",
    "### Regularización L1 (Lasso)\n",
    "$$min_{\\hat{\\alpha}, \\hat{\\beta}} \\sum_{i=1}^{n} \\left( y_i - \\hat{\\alpha} - \\hat{\\beta} * x_i \\right)^2 + \\lambda \\displaystyle\\sum_{i=1}^{n}|\\beta_i|$$\n",
    "\n",
    "La regularización L1 no tiene en cuenta la variación de los coeficientes.\n",
    "\n",
    "### Regularización L2 (Ridge)\n",
    "\n",
    "$$min_{\\hat{\\alpha}, \\hat{\\beta}} \\sum_{i=1}^{n} \\left( y_i - \\hat{\\alpha} - \\hat{\\beta} * x_i \\right)^2 + \\lambda \\displaystyle\\sum_{i=1}^{n}(\\beta_i)^2$$\n",
    "\n",
    "La regularización L2 busca reducir mediante el factor lambda.\n",
    "\n",
    "### Regularización ElasticNet\n",
    "\n",
    "$$min_{\\hat{\\alpha}, \\hat{\\beta}} \\sum_{i=1}^{n} \\left( y_i - \\hat{\\alpha} - \\hat{\\beta} * x_i \\right)^2 + \\lambda_1 \\displaystyle\\sum_{i=1}^{n}|\\beta_i| + \\lambda_2 \\displaystyle\\sum_{i=1}^{n}(\\beta_i)^2$$\n",
    "\n",
    "combinación de los dos anteriores. \n",
    "\n",
    "Lambda es el factor de regularización y puede tener valores entre 0 y 1 de acuerdo a cuanto queremos regularizar. también conocido como hiperparametros  "
   ]
  },
  {
   "cell_type": "code",
   "execution_count": null,
   "metadata": {},
   "outputs": [],
   "source": []
  }
 ],
 "metadata": {
  "kernelspec": {
   "display_name": "Python 3",
   "language": "python",
   "name": "python3"
  },
  "language_info": {
   "codemirror_mode": {
    "name": "ipython",
    "version": 3
   },
   "file_extension": ".py",
   "mimetype": "text/x-python",
   "name": "python",
   "nbconvert_exporter": "python",
   "pygments_lexer": "ipython3",
   "version": "3.7.6"
  }
 },
 "nbformat": 4,
 "nbformat_minor": 4
}
