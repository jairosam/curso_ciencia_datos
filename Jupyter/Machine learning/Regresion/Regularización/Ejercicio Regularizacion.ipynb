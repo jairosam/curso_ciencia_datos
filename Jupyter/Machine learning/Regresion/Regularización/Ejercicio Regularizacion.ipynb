{
 "cells": [
  {
   "cell_type": "code",
   "execution_count": 1,
   "metadata": {},
   "outputs": [
    {
     "name": "stdout",
     "output_type": "stream",
     "text": [
      "2020-09-10T14:50:49-05:00\n",
      "\n",
      "CPython 3.7.6\n",
      "IPython 7.13.0\n",
      "\n",
      "compiler   : GCC 7.3.0\n",
      "system     : Linux\n",
      "release    : 5.4.0-47-generic\n",
      "machine    : x86_64\n",
      "processor  : x86_64\n",
      "CPU cores  : 4\n",
      "interpreter: 64bit\n"
     ]
    }
   ],
   "source": [
    "%load_ext watermark\n",
    "%watermark"
   ]
  },
  {
   "cell_type": "code",
   "execution_count": 2,
   "metadata": {},
   "outputs": [
    {
     "data": {
      "text/html": [
       "<div>\n",
       "<style scoped>\n",
       "    .dataframe tbody tr th:only-of-type {\n",
       "        vertical-align: middle;\n",
       "    }\n",
       "\n",
       "    .dataframe tbody tr th {\n",
       "        vertical-align: top;\n",
       "    }\n",
       "\n",
       "    .dataframe thead th {\n",
       "        text-align: right;\n",
       "    }\n",
       "</style>\n",
       "<table border=\"1\" class=\"dataframe\">\n",
       "  <thead>\n",
       "    <tr style=\"text-align: right;\">\n",
       "      <th></th>\n",
       "      <th>presupuesto</th>\n",
       "      <th>popularidad</th>\n",
       "      <th>ventas</th>\n",
       "      <th>duracion</th>\n",
       "      <th>puntuacion</th>\n",
       "      <th>n_votos</th>\n",
       "    </tr>\n",
       "  </thead>\n",
       "  <tbody>\n",
       "    <tr>\n",
       "      <th>0</th>\n",
       "      <td>0.0</td>\n",
       "      <td>8.387519</td>\n",
       "      <td>76578911.0</td>\n",
       "      <td>106.0</td>\n",
       "      <td>5.7</td>\n",
       "      <td>173.0</td>\n",
       "    </tr>\n",
       "    <tr>\n",
       "      <th>1</th>\n",
       "      <td>0.0</td>\n",
       "      <td>0.894647</td>\n",
       "      <td>676525.0</td>\n",
       "      <td>106.0</td>\n",
       "      <td>6.7</td>\n",
       "      <td>13.0</td>\n",
       "    </tr>\n",
       "    <tr>\n",
       "      <th>2</th>\n",
       "      <td>3500000.0</td>\n",
       "      <td>14.569650</td>\n",
       "      <td>28215918.0</td>\n",
       "      <td>91.0</td>\n",
       "      <td>7.0</td>\n",
       "      <td>513.0</td>\n",
       "    </tr>\n",
       "    <tr>\n",
       "      <th>3</th>\n",
       "      <td>0.0</td>\n",
       "      <td>8.963037</td>\n",
       "      <td>32.0</td>\n",
       "      <td>87.0</td>\n",
       "      <td>6.0</td>\n",
       "      <td>124.0</td>\n",
       "    </tr>\n",
       "    <tr>\n",
       "      <th>4</th>\n",
       "      <td>12000000.0</td>\n",
       "      <td>9.592265</td>\n",
       "      <td>41205099.0</td>\n",
       "      <td>92.0</td>\n",
       "      <td>6.5</td>\n",
       "      <td>767.0</td>\n",
       "    </tr>\n",
       "  </tbody>\n",
       "</table>\n",
       "</div>"
      ],
      "text/plain": [
       "   presupuesto  popularidad      ventas  duracion  puntuacion  n_votos\n",
       "0          0.0     8.387519  76578911.0     106.0         5.7    173.0\n",
       "1          0.0     0.894647    676525.0     106.0         6.7     13.0\n",
       "2    3500000.0    14.569650  28215918.0      91.0         7.0    513.0\n",
       "3          0.0     8.963037        32.0      87.0         6.0    124.0\n",
       "4   12000000.0     9.592265  41205099.0      92.0         6.5    767.0"
      ]
     },
     "execution_count": 2,
     "metadata": {},
     "output_type": "execute_result"
    }
   ],
   "source": [
    "import pandas as pd\n",
    "import numpy as np\n",
    "\n",
    "pelis_numerico = pd.read_csv(\"movies.csv\").select_dtypes(np.number).fillna(0)\n",
    "variable_objetivo = \"ventas\"\n",
    "variables_independientes = [variable for variable in pelis_numerico.columns if variable != \"ventas\"]\n",
    "pelis_numerico.head()"
   ]
  },
  {
   "cell_type": "code",
   "execution_count": 3,
   "metadata": {},
   "outputs": [],
   "source": [
    "from sklearn.linear_model import (LinearRegression, Lasso, Ridge, ElasticNet)\n",
    "from sklearn.model_selection import cross_validate\n",
    "from sklearn import metrics"
   ]
  },
  {
   "cell_type": "code",
   "execution_count": 4,
   "metadata": {},
   "outputs": [],
   "source": [
    "def rmse(estimador,X,y):\n",
    "    y_pred = estimador.predict(X)\n",
    "    return np.sqrt(metrics.mean_squared_error(y,y_pred))"
   ]
  },
  {
   "cell_type": "code",
   "execution_count": 5,
   "metadata": {},
   "outputs": [],
   "source": [
    "modelo_ols = LinearRegression()\n",
    "modelo_l1 = Lasso()\n",
    "modelo_l2 = Ridge()\n",
    "modelo_elasticnet = ElasticNet()"
   ]
  },
  {
   "cell_type": "markdown",
   "metadata": {},
   "source": [
    "## Modelo OLS"
   ]
  },
  {
   "cell_type": "code",
   "execution_count": 6,
   "metadata": {},
   "outputs": [],
   "source": [
    "cross_validate?"
   ]
  },
  {
   "cell_type": "code",
   "execution_count": 7,
   "metadata": {},
   "outputs": [
    {
     "name": "stdout",
     "output_type": "stream",
     "text": [
      "fit_time mean: 0.012274599075317383 | score_time mean: 0.002888917922973633 | test_rmse mean: 38057206.32406651 | train_rmse mean: 38285852.37023396\n"
     ]
    },
    {
     "data": {
      "text/plain": [
       "{'fit_time': array([0.03508401, 0.00687194, 0.00630093, 0.00651336, 0.00660276]),\n",
       " 'score_time': array([0.00269175, 0.00289369, 0.00316644, 0.00292063, 0.00277209]),\n",
       " 'test_rmse': array([55408798.18671991, 44724140.5399625 , 31432340.07842926,\n",
       "        35508746.70590076, 23212006.10932012]),\n",
       " 'train_rmse': array([33200170.4565834 , 36945653.7842147 , 40179869.11597019,\n",
       "        39630559.4459549 , 41473009.04844663])}"
      ]
     },
     "execution_count": 7,
     "metadata": {},
     "output_type": "execute_result"
    }
   ],
   "source": [
    "estimador = modelo_ols\n",
    "scoring = {\"rmse\":rmse}\n",
    "scores = cross_validate(estimator=estimador, X=pelis_numerico[variables_independientes],\n",
    "                       y=pelis_numerico[variable_objetivo],scoring=scoring,cv=5, return_train_score=True)\n",
    "promedios = [np.sum(scores[key])/5 for key in scores] \n",
    "print(\"fit_time mean: {} | score_time mean: {} | test_rmse mean: {} | train_rmse mean: {}\"\n",
    "      .format(promedios[0],promedios[1],promedios[2],promedios[3]))\n",
    "scores"
   ]
  },
  {
   "cell_type": "markdown",
   "metadata": {},
   "source": [
    "## Modelo L1"
   ]
  },
  {
   "cell_type": "code",
   "execution_count": 8,
   "metadata": {},
   "outputs": [
    {
     "name": "stdout",
     "output_type": "stream",
     "text": [
      "fit_time mean: 0.006997489929199218 | score_time mean: 0.0027893543243408202 | test_rmse mean: 38057206.30111999 | train_rmse mean: 38285852.370233975\n"
     ]
    }
   ],
   "source": [
    "estimador = modelo_l1\n",
    "scoring = {\"rmse\":rmse}\n",
    "scores = cross_validate(estimator=estimador, X=pelis_numerico[variables_independientes],\n",
    "                       y=pelis_numerico[variable_objetivo],scoring=scoring,cv=5,return_train_score=True)\n",
    "promedios = [np.sum(scores[key])/5 for key in scores] \n",
    "print(\"fit_time mean: {} | score_time mean: {} | test_rmse mean: {} | train_rmse mean: {}\"\n",
    "      .format(promedios[0],promedios[1],promedios[2],promedios[3]))"
   ]
  },
  {
   "cell_type": "markdown",
   "metadata": {},
   "source": [
    "## Modelo L2"
   ]
  },
  {
   "cell_type": "code",
   "execution_count": 9,
   "metadata": {},
   "outputs": [
    {
     "name": "stdout",
     "output_type": "stream",
     "text": [
      "fit_time mean: 0.018922185897827147 | score_time mean: 0.002679872512817383 | test_rmse mean: 38057185.378365085 | train_rmse mean: 38285852.37224381\n"
     ]
    }
   ],
   "source": [
    "estimador = modelo_l2\n",
    "scoring = {\"rmse\":rmse}\n",
    "scores = cross_validate(estimator=estimador, X=pelis_numerico[variables_independientes],\n",
    "                       y=pelis_numerico[variable_objetivo],scoring=scoring,cv=5,return_train_score=True)\n",
    "promedios = [np.sum(scores[key])/5 for key in scores] \n",
    "print(\"fit_time mean: {} | score_time mean: {} | test_rmse mean: {} | train_rmse mean: {}\"\n",
    "      .format(promedios[0],promedios[1],promedios[2],promedios[3]))"
   ]
  },
  {
   "cell_type": "markdown",
   "metadata": {},
   "source": [
    "## Modelo ElasticNet"
   ]
  },
  {
   "cell_type": "code",
   "execution_count": 10,
   "metadata": {},
   "outputs": [
    {
     "name": "stdout",
     "output_type": "stream",
     "text": [
      "fit_time mean: 0.0067447185516357425 | score_time mean: 0.0027428150177001955 | test_rmse mean: 38047140.16954851 | train_rmse mean: 38286229.23069368\n"
     ]
    }
   ],
   "source": [
    "estimador = modelo_elasticnet\n",
    "scoring = {\"rmse\":rmse}\n",
    "scores = cross_validate(estimator=estimador, X=pelis_numerico[variables_independientes],\n",
    "                       y=pelis_numerico[variable_objetivo],scoring=scoring,cv=5,return_train_score=True)\n",
    "promedios = [np.sum(scores[key])/5 for key in scores] \n",
    "print(\"fit_time mean: {} | score_time mean: {} | test_rmse mean: {} | train_rmse mean: {}\"\n",
    "      .format(promedios[0],promedios[1],promedios[2],promedios[3]))"
   ]
  },
  {
   "cell_type": "code",
   "execution_count": null,
   "metadata": {},
   "outputs": [],
   "source": []
  }
 ],
 "metadata": {
  "kernelspec": {
   "display_name": "Python 3",
   "language": "python",
   "name": "python3"
  },
  "language_info": {
   "codemirror_mode": {
    "name": "ipython",
    "version": 3
   },
   "file_extension": ".py",
   "mimetype": "text/x-python",
   "name": "python",
   "nbconvert_exporter": "python",
   "pygments_lexer": "ipython3",
   "version": "3.7.6"
  }
 },
 "nbformat": 4,
 "nbformat_minor": 4
}
