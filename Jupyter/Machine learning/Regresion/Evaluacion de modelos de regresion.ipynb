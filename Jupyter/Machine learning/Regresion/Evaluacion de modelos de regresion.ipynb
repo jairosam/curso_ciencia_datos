{
 "cells": [
  {
   "cell_type": "code",
   "execution_count": 1,
   "metadata": {},
   "outputs": [
    {
     "name": "stdout",
     "output_type": "stream",
     "text": [
      "2020-09-09T17:47:04-05:00\n",
      "\n",
      "CPython 3.7.6\n",
      "IPython 7.13.0\n",
      "\n",
      "compiler   : GCC 7.3.0\n",
      "system     : Linux\n",
      "release    : 5.4.0-47-generic\n",
      "machine    : x86_64\n",
      "processor  : x86_64\n",
      "CPU cores  : 4\n",
      "interpreter: 64bit\n"
     ]
    }
   ],
   "source": [
    "%load_ext watermark\n",
    "%watermark"
   ]
  },
  {
   "cell_type": "code",
   "execution_count": 2,
   "metadata": {},
   "outputs": [],
   "source": [
    "from sklearn import datasets"
   ]
  },
  {
   "cell_type": "code",
   "execution_count": 3,
   "metadata": {},
   "outputs": [],
   "source": [
    "boston = datasets.load_boston()"
   ]
  },
  {
   "cell_type": "code",
   "execution_count": 4,
   "metadata": {},
   "outputs": [],
   "source": [
    "from sklearn.linear_model import LinearRegression as lr"
   ]
  },
  {
   "cell_type": "code",
   "execution_count": 5,
   "metadata": {},
   "outputs": [],
   "source": [
    "modelo = lr()"
   ]
  },
  {
   "cell_type": "code",
   "execution_count": 6,
   "metadata": {},
   "outputs": [
    {
     "data": {
      "text/plain": [
       "LinearRegression(copy_X=True, fit_intercept=True, n_jobs=None, normalize=False)"
      ]
     },
     "execution_count": 6,
     "metadata": {},
     "output_type": "execute_result"
    }
   ],
   "source": [
    "modelo.fit(X=boston[\"data\"], y=boston[\"target\"])"
   ]
  },
  {
   "cell_type": "code",
   "execution_count": 7,
   "metadata": {},
   "outputs": [],
   "source": [
    "y_objetivo = boston[\"target\"]\n",
    "y_pred = modelo.predict(boston[\"data\"])"
   ]
  },
  {
   "cell_type": "code",
   "execution_count": 8,
   "metadata": {},
   "outputs": [],
   "source": [
    "from sklearn import metrics"
   ]
  },
  {
   "cell_type": "markdown",
   "metadata": {},
   "source": [
    "### Error absoluto medio\n",
    "El error aboluto medio (Mean Absolute Error o MAE) se define como:\n",
    "\n",
    "$$\\dfrac{1}{n}\\displaystyle\\sum_{i=1}^{n}|y_i - \\hat{y_i}|$$\n",
    "\n",
    "Es decir, la media de las diferencias entre la variable objetivo y las predicciones sin el signo.\n",
    "\n",
    "MAE es una metrica robusta, en cuanto a que no varia mucho si hay valores extremos en los datos. El error se puede interpretar como unidades de la variable objetivo."
   ]
  },
  {
   "cell_type": "code",
   "execution_count": 9,
   "metadata": {},
   "outputs": [],
   "source": [
    "metrics.mean_absolute_error?"
   ]
  },
  {
   "cell_type": "code",
   "execution_count": 10,
   "metadata": {},
   "outputs": [
    {
     "data": {
      "text/plain": [
       "3.2708628109003137"
      ]
     },
     "execution_count": 10,
     "metadata": {},
     "output_type": "execute_result"
    }
   ],
   "source": [
    "metrics.mean_absolute_error(y_objetivo, y_pred)"
   ]
  },
  {
   "attachments": {
    "imagen.png": {
     "image/png": "[encoded data removed]"
    }
   },
   "cell_type": "markdown",
   "metadata": {},
   "source": [
    "### Error cuadratico medio\n",
    "Error cuadratico medio (Mean Squared Error o MSE)\n",
    "\n",
    "$$\\dfrac{1}{n} \\displaystyle\\sum_{i=1}^{n}(y_i-\\hat{y_i})^2$$\n",
    "\n",
    "Dado que el MSE se define en unidades al cuadrado, lo cual no es intuitivo, generalmente se utiliza la raiz.\n",
    "\n",
    "### Raiz del error cuadratico medio (Root mean squared error RMSE)\n",
    "\n",
    "$$\\sqrt{\\dfrac{1}{n} \\displaystyle\\sum_{i=1}^{n}(y_i-\\hat{y_i})^2}$$\n",
    "\n",
    "1. El resultado se puede medir en las unidades de la variable objetivo\n",
    "2. Tiene el problema de que da más importancia a los errores grandes\n",
    "\n",
    "\n",
    "* El RMSE es muy sensible a las variaciones de predicción, por tanto es util darle uso cuando queremos notar errores muy grandes.\n",
    "* El RMSE también resulta conveniente cuando la variable objetivo este muy bien distribuida\n",
    "\n",
    "En el siguiente ejemplo se puede ver: \n",
    "\n",
    "![imagen.png](attachment:imagen.png)"
   ]
  },
  {
   "cell_type": "code",
   "execution_count": 11,
   "metadata": {},
   "outputs": [
    {
     "data": {
      "text/plain": [
       "4.679191295697281"
      ]
     },
     "execution_count": 11,
     "metadata": {},
     "output_type": "execute_result"
    }
   ],
   "source": [
    "import numpy as np\n",
    "np.sqrt(metrics.mean_squared_error(y_objetivo, y_pred))"
   ]
  },
  {
   "cell_type": "markdown",
   "metadata": {},
   "source": [
    "## Coeficiente de determincación\n",
    "El coeficiente de determinación (R2 o R-squared) mide la porción de la varianza de la variable objetivo que se puede explicar por el modelo.\n",
    "\n",
    "$$r = r_{xy} = \\dfrac{n\\sum x_iy_i - \\sum x_i \\sum y_i}{\\sqrt{n\\sum x_i^2 - \\left(\\sum x_i \\right)^2} \\sqrt{n \\sum y_i^2 - \\left(\\sum y_i \\right)^2}}$$\n",
    "\n",
    "El coeficiente de correlación no tiene en cuenta la complejidad del modelo, por tanto es mejor utilizar el coeficiente de determinación ajustado (Adjusted R-squared): \n",
    "\n",
    "$$1-\\dfrac{(1-R^2)(n-1)}{(n-k-1)}$$\n",
    "\n",
    "donde *n* es el número de observaciones y *k* es el número de coeficientes del modelo (sin contar el termino dependiente)"
   ]
  },
  {
   "cell_type": "code",
   "execution_count": 12,
   "metadata": {},
   "outputs": [
    {
     "data": {
      "text/plain": [
       "0.7406426641094095"
      ]
     },
     "execution_count": 12,
     "metadata": {},
     "output_type": "execute_result"
    }
   ],
   "source": [
    "modelo_r2 = metrics.r2_score(y_objetivo, y_pred)\n",
    "modelo_r2"
   ]
  },
  {
   "cell_type": "code",
   "execution_count": 13,
   "metadata": {},
   "outputs": [
    {
     "data": {
      "text/plain": [
       "array([[1.        , 0.74064266],\n",
       "       [0.74064266, 1.        ]])"
      ]
     },
     "execution_count": 13,
     "metadata": {},
     "output_type": "execute_result"
    }
   ],
   "source": [
    "import numpy\n",
    "np.corrcoef(y_objetivo, y_pred)**2"
   ]
  },
  {
   "cell_type": "code",
   "execution_count": 14,
   "metadata": {},
   "outputs": [
    {
     "data": {
      "text/plain": [
       "13"
      ]
     },
     "execution_count": 14,
     "metadata": {},
     "output_type": "execute_result"
    }
   ],
   "source": [
    "len(modelo.coef_)"
   ]
  },
  {
   "cell_type": "code",
   "execution_count": 15,
   "metadata": {},
   "outputs": [
    {
     "data": {
      "text/plain": [
       "0.733789726372463"
      ]
     },
     "execution_count": 15,
     "metadata": {},
     "output_type": "execute_result"
    }
   ],
   "source": [
    "modelo_r2_ajustado = 1 - ((1-modelo_r2)*(len(boston[\"target\"])-1))/(len(boston[\"target\"]) - len(modelo.coef_) - 1)\n",
    "modelo_r2_ajustado"
   ]
  },
  {
   "cell_type": "code",
   "execution_count": null,
   "metadata": {},
   "outputs": [],
   "source": []
  }
 ],
 "metadata": {
  "kernelspec": {
   "display_name": "Python 3",
   "language": "python",
   "name": "python3"
  },
  "language_info": {
   "codemirror_mode": {
    "name": "ipython",
    "version": 3
   },
   "file_extension": ".py",
   "mimetype": "text/x-python",
   "name": "python",
   "nbconvert_exporter": "python",
   "pygments_lexer": "ipython3",
   "version": "3.7.6"
  }
 },
 "nbformat": 4,
 "nbformat_minor": 4
}
